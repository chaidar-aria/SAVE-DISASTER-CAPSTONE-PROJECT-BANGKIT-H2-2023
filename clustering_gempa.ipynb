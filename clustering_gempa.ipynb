{
 "cells": [
  {
   "cell_type": "code",
   "execution_count": 178,
   "id": "44dd18c6-cbf8-4eee-b987-36b3c7265e5a",
   "metadata": {},
   "outputs": [],
   "source": [
    "import random\n",
    "import math\n",
    "import numpy as np\n",
    "import matplotlib.pyplot as plt\n",
    "import csv\n",
    "import h5py"
   ]
  },
  {
   "cell_type": "code",
   "execution_count": 179,
   "id": "4b1b118f-d19c-403b-8b09-f48a7276962b",
   "metadata": {
    "tags": []
   },
   "outputs": [
    {
     "data": {
      "text/html": [
       "<div>\n",
       "<style scoped>\n",
       "    .dataframe tbody tr th:only-of-type {\n",
       "        vertical-align: middle;\n",
       "    }\n",
       "\n",
       "    .dataframe tbody tr th {\n",
       "        vertical-align: top;\n",
       "    }\n",
       "\n",
       "    .dataframe thead th {\n",
       "        text-align: right;\n",
       "    }\n",
       "</style>\n",
       "<table border=\"1\" class=\"dataframe\">\n",
       "  <thead>\n",
       "    <tr style=\"text-align: right;\">\n",
       "      <th></th>\n",
       "      <th>tgl</th>\n",
       "      <th>ot</th>\n",
       "      <th>lat</th>\n",
       "      <th>lon</th>\n",
       "      <th>depth</th>\n",
       "      <th>mag</th>\n",
       "      <th>remark</th>\n",
       "      <th>strike1</th>\n",
       "      <th>dip1</th>\n",
       "      <th>rake1</th>\n",
       "      <th>strike2</th>\n",
       "      <th>dip2</th>\n",
       "      <th>rake2</th>\n",
       "    </tr>\n",
       "  </thead>\n",
       "  <tbody>\n",
       "    <tr>\n",
       "      <th>0</th>\n",
       "      <td>2022-01-01</td>\n",
       "      <td>23:50:06.226</td>\n",
       "      <td>-8.13</td>\n",
       "      <td>122.38</td>\n",
       "      <td>10</td>\n",
       "      <td>2.9</td>\n",
       "      <td>Flores Region - Indonesia</td>\n",
       "      <td>NaN</td>\n",
       "      <td>NaN</td>\n",
       "      <td>NaN</td>\n",
       "      <td>NaN</td>\n",
       "      <td>NaN</td>\n",
       "      <td>NaN</td>\n",
       "    </tr>\n",
       "    <tr>\n",
       "      <th>1</th>\n",
       "      <td>2022-01-01</td>\n",
       "      <td>23:48:17.777</td>\n",
       "      <td>-8.85</td>\n",
       "      <td>124.11</td>\n",
       "      <td>76</td>\n",
       "      <td>3.4</td>\n",
       "      <td>Timor Region</td>\n",
       "      <td>NaN</td>\n",
       "      <td>NaN</td>\n",
       "      <td>NaN</td>\n",
       "      <td>NaN</td>\n",
       "      <td>NaN</td>\n",
       "      <td>NaN</td>\n",
       "    </tr>\n",
       "    <tr>\n",
       "      <th>2</th>\n",
       "      <td>2022-01-01</td>\n",
       "      <td>22:30:50.962</td>\n",
       "      <td>-3.59</td>\n",
       "      <td>140.21</td>\n",
       "      <td>12</td>\n",
       "      <td>3.8</td>\n",
       "      <td>Irian Jaya - Indonesia</td>\n",
       "      <td>NaN</td>\n",
       "      <td>NaN</td>\n",
       "      <td>NaN</td>\n",
       "      <td>NaN</td>\n",
       "      <td>NaN</td>\n",
       "      <td>NaN</td>\n",
       "    </tr>\n",
       "    <tr>\n",
       "      <th>3</th>\n",
       "      <td>2022-01-01</td>\n",
       "      <td>22:15:37.661</td>\n",
       "      <td>-8.03</td>\n",
       "      <td>122.35</td>\n",
       "      <td>10</td>\n",
       "      <td>3.5</td>\n",
       "      <td>Flores Region - Indonesia</td>\n",
       "      <td>NaN</td>\n",
       "      <td>NaN</td>\n",
       "      <td>NaN</td>\n",
       "      <td>NaN</td>\n",
       "      <td>NaN</td>\n",
       "      <td>NaN</td>\n",
       "    </tr>\n",
       "    <tr>\n",
       "      <th>4</th>\n",
       "      <td>2022-01-01</td>\n",
       "      <td>22:14:01.632</td>\n",
       "      <td>-8.04</td>\n",
       "      <td>122.39</td>\n",
       "      <td>10</td>\n",
       "      <td>3.0</td>\n",
       "      <td>Flores Region - Indonesia</td>\n",
       "      <td>NaN</td>\n",
       "      <td>NaN</td>\n",
       "      <td>NaN</td>\n",
       "      <td>NaN</td>\n",
       "      <td>NaN</td>\n",
       "      <td>NaN</td>\n",
       "    </tr>\n",
       "    <tr>\n",
       "      <th>...</th>\n",
       "      <td>...</td>\n",
       "      <td>...</td>\n",
       "      <td>...</td>\n",
       "      <td>...</td>\n",
       "      <td>...</td>\n",
       "      <td>...</td>\n",
       "      <td>...</td>\n",
       "      <td>...</td>\n",
       "      <td>...</td>\n",
       "      <td>...</td>\n",
       "      <td>...</td>\n",
       "      <td>...</td>\n",
       "      <td>...</td>\n",
       "    </tr>\n",
       "    <tr>\n",
       "      <th>12020</th>\n",
       "      <td>2023-01-26</td>\n",
       "      <td>02:25:09.288</td>\n",
       "      <td>3.24</td>\n",
       "      <td>127.18</td>\n",
       "      <td>10</td>\n",
       "      <td>4.0</td>\n",
       "      <td>Talaud Islands - Indonesia</td>\n",
       "      <td>NaN</td>\n",
       "      <td>NaN</td>\n",
       "      <td>NaN</td>\n",
       "      <td>NaN</td>\n",
       "      <td>NaN</td>\n",
       "      <td>NaN</td>\n",
       "    </tr>\n",
       "    <tr>\n",
       "      <th>12021</th>\n",
       "      <td>2023-01-26</td>\n",
       "      <td>02:15:03.893</td>\n",
       "      <td>2.70</td>\n",
       "      <td>127.10</td>\n",
       "      <td>10</td>\n",
       "      <td>3.9</td>\n",
       "      <td>Northern Molucca Sea</td>\n",
       "      <td>NaN</td>\n",
       "      <td>NaN</td>\n",
       "      <td>NaN</td>\n",
       "      <td>NaN</td>\n",
       "      <td>NaN</td>\n",
       "      <td>NaN</td>\n",
       "    </tr>\n",
       "    <tr>\n",
       "      <th>12022</th>\n",
       "      <td>2023-01-26</td>\n",
       "      <td>01:57:08.885</td>\n",
       "      <td>-7.83</td>\n",
       "      <td>121.07</td>\n",
       "      <td>10</td>\n",
       "      <td>3.8</td>\n",
       "      <td>Flores Sea</td>\n",
       "      <td>NaN</td>\n",
       "      <td>NaN</td>\n",
       "      <td>NaN</td>\n",
       "      <td>NaN</td>\n",
       "      <td>NaN</td>\n",
       "      <td>NaN</td>\n",
       "    </tr>\n",
       "    <tr>\n",
       "      <th>12023</th>\n",
       "      <td>2023-01-26</td>\n",
       "      <td>01:46:21.009</td>\n",
       "      <td>3.00</td>\n",
       "      <td>127.16</td>\n",
       "      <td>10</td>\n",
       "      <td>4.1</td>\n",
       "      <td>Northern Molucca Sea</td>\n",
       "      <td>NaN</td>\n",
       "      <td>NaN</td>\n",
       "      <td>NaN</td>\n",
       "      <td>NaN</td>\n",
       "      <td>NaN</td>\n",
       "      <td>NaN</td>\n",
       "    </tr>\n",
       "    <tr>\n",
       "      <th>12024</th>\n",
       "      <td>2023-01-26</td>\n",
       "      <td>00:00:35.181</td>\n",
       "      <td>-8.87</td>\n",
       "      <td>118.95</td>\n",
       "      <td>10</td>\n",
       "      <td>2.4</td>\n",
       "      <td>Sumbawa Region - Indonesia</td>\n",
       "      <td>NaN</td>\n",
       "      <td>NaN</td>\n",
       "      <td>NaN</td>\n",
       "      <td>NaN</td>\n",
       "      <td>NaN</td>\n",
       "      <td>NaN</td>\n",
       "    </tr>\n",
       "  </tbody>\n",
       "</table>\n",
       "<p>12025 rows × 13 columns</p>\n",
       "</div>"
      ],
      "text/plain": [
       "              tgl            ot   lat     lon  depth  mag  \\\n",
       "0      2022-01-01  23:50:06.226 -8.13  122.38     10  2.9   \n",
       "1      2022-01-01  23:48:17.777 -8.85  124.11     76  3.4   \n",
       "2      2022-01-01  22:30:50.962 -3.59  140.21     12  3.8   \n",
       "3      2022-01-01  22:15:37.661 -8.03  122.35     10  3.5   \n",
       "4      2022-01-01  22:14:01.632 -8.04  122.39     10  3.0   \n",
       "...           ...           ...   ...     ...    ...  ...   \n",
       "12020  2023-01-26  02:25:09.288  3.24  127.18     10  4.0   \n",
       "12021  2023-01-26  02:15:03.893  2.70  127.10     10  3.9   \n",
       "12022  2023-01-26  01:57:08.885 -7.83  121.07     10  3.8   \n",
       "12023  2023-01-26  01:46:21.009  3.00  127.16     10  4.1   \n",
       "12024  2023-01-26  00:00:35.181 -8.87  118.95     10  2.4   \n",
       "\n",
       "                           remark  strike1  dip1  rake1  strike2  dip2  rake2  \n",
       "0       Flores Region - Indonesia      NaN   NaN    NaN      NaN   NaN    NaN  \n",
       "1                    Timor Region      NaN   NaN    NaN      NaN   NaN    NaN  \n",
       "2          Irian Jaya - Indonesia      NaN   NaN    NaN      NaN   NaN    NaN  \n",
       "3       Flores Region - Indonesia      NaN   NaN    NaN      NaN   NaN    NaN  \n",
       "4       Flores Region - Indonesia      NaN   NaN    NaN      NaN   NaN    NaN  \n",
       "...                           ...      ...   ...    ...      ...   ...    ...  \n",
       "12020  Talaud Islands - Indonesia      NaN   NaN    NaN      NaN   NaN    NaN  \n",
       "12021        Northern Molucca Sea      NaN   NaN    NaN      NaN   NaN    NaN  \n",
       "12022                  Flores Sea      NaN   NaN    NaN      NaN   NaN    NaN  \n",
       "12023        Northern Molucca Sea      NaN   NaN    NaN      NaN   NaN    NaN  \n",
       "12024  Sumbawa Region - Indonesia      NaN   NaN    NaN      NaN   NaN    NaN  \n",
       "\n",
       "[12025 rows x 13 columns]"
      ]
     },
     "execution_count": 179,
     "metadata": {},
     "output_type": "execute_result"
    }
   ],
   "source": [
    "df = pd.read_csv('gempa22_23.csv')\n",
    "df"
   ]
  },
  {
   "cell_type": "code",
   "execution_count": 180,
   "id": "bf177d8c-731a-4ca6-ac02-84650f78c808",
   "metadata": {},
   "outputs": [
    {
     "data": {
      "text/html": [
       "<div>\n",
       "<style scoped>\n",
       "    .dataframe tbody tr th:only-of-type {\n",
       "        vertical-align: middle;\n",
       "    }\n",
       "\n",
       "    .dataframe tbody tr th {\n",
       "        vertical-align: top;\n",
       "    }\n",
       "\n",
       "    .dataframe thead th {\n",
       "        text-align: right;\n",
       "    }\n",
       "</style>\n",
       "<table border=\"1\" class=\"dataframe\">\n",
       "  <thead>\n",
       "    <tr style=\"text-align: right;\">\n",
       "      <th></th>\n",
       "      <th>lat</th>\n",
       "      <th>lon</th>\n",
       "      <th>depth</th>\n",
       "      <th>mag</th>\n",
       "      <th>remark</th>\n",
       "    </tr>\n",
       "  </thead>\n",
       "  <tbody>\n",
       "    <tr>\n",
       "      <th>0</th>\n",
       "      <td>-8.13</td>\n",
       "      <td>122.38</td>\n",
       "      <td>10</td>\n",
       "      <td>2.9</td>\n",
       "      <td>Flores Region - Indonesia</td>\n",
       "    </tr>\n",
       "    <tr>\n",
       "      <th>1</th>\n",
       "      <td>-8.85</td>\n",
       "      <td>124.11</td>\n",
       "      <td>76</td>\n",
       "      <td>3.4</td>\n",
       "      <td>Timor Region</td>\n",
       "    </tr>\n",
       "    <tr>\n",
       "      <th>2</th>\n",
       "      <td>-3.59</td>\n",
       "      <td>140.21</td>\n",
       "      <td>12</td>\n",
       "      <td>3.8</td>\n",
       "      <td>Irian Jaya - Indonesia</td>\n",
       "    </tr>\n",
       "    <tr>\n",
       "      <th>3</th>\n",
       "      <td>-8.03</td>\n",
       "      <td>122.35</td>\n",
       "      <td>10</td>\n",
       "      <td>3.5</td>\n",
       "      <td>Flores Region - Indonesia</td>\n",
       "    </tr>\n",
       "    <tr>\n",
       "      <th>4</th>\n",
       "      <td>-8.04</td>\n",
       "      <td>122.39</td>\n",
       "      <td>10</td>\n",
       "      <td>3.0</td>\n",
       "      <td>Flores Region - Indonesia</td>\n",
       "    </tr>\n",
       "    <tr>\n",
       "      <th>...</th>\n",
       "      <td>...</td>\n",
       "      <td>...</td>\n",
       "      <td>...</td>\n",
       "      <td>...</td>\n",
       "      <td>...</td>\n",
       "    </tr>\n",
       "    <tr>\n",
       "      <th>12020</th>\n",
       "      <td>3.24</td>\n",
       "      <td>127.18</td>\n",
       "      <td>10</td>\n",
       "      <td>4.0</td>\n",
       "      <td>Talaud Islands - Indonesia</td>\n",
       "    </tr>\n",
       "    <tr>\n",
       "      <th>12021</th>\n",
       "      <td>2.70</td>\n",
       "      <td>127.10</td>\n",
       "      <td>10</td>\n",
       "      <td>3.9</td>\n",
       "      <td>Northern Molucca Sea</td>\n",
       "    </tr>\n",
       "    <tr>\n",
       "      <th>12022</th>\n",
       "      <td>-7.83</td>\n",
       "      <td>121.07</td>\n",
       "      <td>10</td>\n",
       "      <td>3.8</td>\n",
       "      <td>Flores Sea</td>\n",
       "    </tr>\n",
       "    <tr>\n",
       "      <th>12023</th>\n",
       "      <td>3.00</td>\n",
       "      <td>127.16</td>\n",
       "      <td>10</td>\n",
       "      <td>4.1</td>\n",
       "      <td>Northern Molucca Sea</td>\n",
       "    </tr>\n",
       "    <tr>\n",
       "      <th>12024</th>\n",
       "      <td>-8.87</td>\n",
       "      <td>118.95</td>\n",
       "      <td>10</td>\n",
       "      <td>2.4</td>\n",
       "      <td>Sumbawa Region - Indonesia</td>\n",
       "    </tr>\n",
       "  </tbody>\n",
       "</table>\n",
       "<p>12025 rows × 5 columns</p>\n",
       "</div>"
      ],
      "text/plain": [
       "        lat     lon  depth  mag                      remark\n",
       "0     -8.13  122.38     10  2.9   Flores Region - Indonesia\n",
       "1     -8.85  124.11     76  3.4                Timor Region\n",
       "2     -3.59  140.21     12  3.8      Irian Jaya - Indonesia\n",
       "3     -8.03  122.35     10  3.5   Flores Region - Indonesia\n",
       "4     -8.04  122.39     10  3.0   Flores Region - Indonesia\n",
       "...     ...     ...    ...  ...                         ...\n",
       "12020  3.24  127.18     10  4.0  Talaud Islands - Indonesia\n",
       "12021  2.70  127.10     10  3.9        Northern Molucca Sea\n",
       "12022 -7.83  121.07     10  3.8                  Flores Sea\n",
       "12023  3.00  127.16     10  4.1        Northern Molucca Sea\n",
       "12024 -8.87  118.95     10  2.4  Sumbawa Region - Indonesia\n",
       "\n",
       "[12025 rows x 5 columns]"
      ]
     },
     "execution_count": 180,
     "metadata": {},
     "output_type": "execute_result"
    }
   ],
   "source": [
    "df.drop(['strike1','dip1','rake1','strike2','dip2','rake2','ot','tgl'], axis=1, inplace=True)\n",
    "df"
   ]
  },
  {
   "cell_type": "code",
   "execution_count": 181,
   "id": "698877ef-e8d7-4508-a556-ae6ab846cdc5",
   "metadata": {},
   "outputs": [
    {
     "data": {
      "text/plain": [
       "['Latitude', 'Longitude', 'Depth', 'Magnitude', 'Region']"
      ]
     },
     "execution_count": 181,
     "metadata": {},
     "output_type": "execute_result"
    }
   ],
   "source": [
    "col_names = ['Latitude', 'Longitude', 'Depth', 'Magnitude','Region']\n",
    "df.columns = col_names\n",
    "col_names"
   ]
  },
  {
   "cell_type": "code",
   "execution_count": 182,
   "id": "9a85deb8-da75-43c6-b1e3-83711b281a2f",
   "metadata": {},
   "outputs": [],
   "source": [
    "# Menghilangkan spasi tambahan di sepanjang string pada kolom 'Region'\n",
    "df['Region'] = df['Region'].str.strip()"
   ]
  },
  {
   "cell_type": "code",
   "execution_count": 183,
   "id": "1fa7af60-ebf4-4149-85ca-6d904d52014f",
   "metadata": {},
   "outputs": [],
   "source": [
    "# Menghilangkan tanda ; dari setiap string pada kolom 'Region'\n",
    "df['Region'] = df['Region'].str.replace(';', '')\n",
    "df.to_csv('data_gempa.csv', index=False)"
   ]
  },
  {
   "cell_type": "code",
   "execution_count": 184,
   "id": "cc5935a3-0a68-4bc7-8b25-6b4de16d992d",
   "metadata": {},
   "outputs": [
    {
     "data": {
      "text/html": [
       "<div>\n",
       "<style scoped>\n",
       "    .dataframe tbody tr th:only-of-type {\n",
       "        vertical-align: middle;\n",
       "    }\n",
       "\n",
       "    .dataframe tbody tr th {\n",
       "        vertical-align: top;\n",
       "    }\n",
       "\n",
       "    .dataframe thead th {\n",
       "        text-align: right;\n",
       "    }\n",
       "</style>\n",
       "<table border=\"1\" class=\"dataframe\">\n",
       "  <thead>\n",
       "    <tr style=\"text-align: right;\">\n",
       "      <th></th>\n",
       "      <th>Magnitude</th>\n",
       "      <th>Depth</th>\n",
       "      <th>Region</th>\n",
       "    </tr>\n",
       "  </thead>\n",
       "  <tbody>\n",
       "    <tr>\n",
       "      <th>0</th>\n",
       "      <td>2.9</td>\n",
       "      <td>10</td>\n",
       "      <td>Flores Region - Indonesia</td>\n",
       "    </tr>\n",
       "    <tr>\n",
       "      <th>1</th>\n",
       "      <td>3.4</td>\n",
       "      <td>76</td>\n",
       "      <td>Timor Region</td>\n",
       "    </tr>\n",
       "    <tr>\n",
       "      <th>2</th>\n",
       "      <td>3.8</td>\n",
       "      <td>12</td>\n",
       "      <td>Irian Jaya - Indonesia</td>\n",
       "    </tr>\n",
       "    <tr>\n",
       "      <th>3</th>\n",
       "      <td>3.5</td>\n",
       "      <td>10</td>\n",
       "      <td>Flores Region - Indonesia</td>\n",
       "    </tr>\n",
       "    <tr>\n",
       "      <th>4</th>\n",
       "      <td>3.0</td>\n",
       "      <td>10</td>\n",
       "      <td>Flores Region - Indonesia</td>\n",
       "    </tr>\n",
       "    <tr>\n",
       "      <th>...</th>\n",
       "      <td>...</td>\n",
       "      <td>...</td>\n",
       "      <td>...</td>\n",
       "    </tr>\n",
       "    <tr>\n",
       "      <th>12020</th>\n",
       "      <td>4.0</td>\n",
       "      <td>10</td>\n",
       "      <td>Talaud Islands - Indonesia</td>\n",
       "    </tr>\n",
       "    <tr>\n",
       "      <th>12021</th>\n",
       "      <td>3.9</td>\n",
       "      <td>10</td>\n",
       "      <td>Northern Molucca Sea</td>\n",
       "    </tr>\n",
       "    <tr>\n",
       "      <th>12022</th>\n",
       "      <td>3.8</td>\n",
       "      <td>10</td>\n",
       "      <td>Flores Sea</td>\n",
       "    </tr>\n",
       "    <tr>\n",
       "      <th>12023</th>\n",
       "      <td>4.1</td>\n",
       "      <td>10</td>\n",
       "      <td>Northern Molucca Sea</td>\n",
       "    </tr>\n",
       "    <tr>\n",
       "      <th>12024</th>\n",
       "      <td>2.4</td>\n",
       "      <td>10</td>\n",
       "      <td>Sumbawa Region - Indonesia</td>\n",
       "    </tr>\n",
       "  </tbody>\n",
       "</table>\n",
       "<p>12025 rows × 3 columns</p>\n",
       "</div>"
      ],
      "text/plain": [
       "       Magnitude  Depth                      Region\n",
       "0            2.9     10   Flores Region - Indonesia\n",
       "1            3.4     76                Timor Region\n",
       "2            3.8     12      Irian Jaya - Indonesia\n",
       "3            3.5     10   Flores Region - Indonesia\n",
       "4            3.0     10   Flores Region - Indonesia\n",
       "...          ...    ...                         ...\n",
       "12020        4.0     10  Talaud Islands - Indonesia\n",
       "12021        3.9     10        Northern Molucca Sea\n",
       "12022        3.8     10                  Flores Sea\n",
       "12023        4.1     10        Northern Molucca Sea\n",
       "12024        2.4     10  Sumbawa Region - Indonesia\n",
       "\n",
       "[12025 rows x 3 columns]"
      ]
     },
     "execution_count": 184,
     "metadata": {},
     "output_type": "execute_result"
    }
   ],
   "source": [
    "tabel = df.loc[:,['Magnitude','Depth', 'Region']]\n",
    "tabel"
   ]
  },
  {
   "cell_type": "code",
   "execution_count": 185,
   "id": "a1b56fa9-e1ae-4f58-85ad-8355ff71e668",
   "metadata": {},
   "outputs": [
    {
     "data": {
      "text/plain": [
       "Latitude     0\n",
       "Longitude    0\n",
       "Depth        0\n",
       "Magnitude    0\n",
       "Region       0\n",
       "dtype: int64"
      ]
     },
     "execution_count": 185,
     "metadata": {},
     "output_type": "execute_result"
    }
   ],
   "source": [
    "df.isna().sum()"
   ]
  },
  {
   "cell_type": "code",
   "execution_count": 186,
   "id": "f1175c4e-7d36-42dc-8927-e24d0e6fbb32",
   "metadata": {},
   "outputs": [
    {
     "data": {
      "text/plain": [
       "Latitude     float64\n",
       "Longitude    float64\n",
       "Depth          int64\n",
       "Magnitude    float64\n",
       "Region        object\n",
       "dtype: object"
      ]
     },
     "execution_count": 186,
     "metadata": {},
     "output_type": "execute_result"
    }
   ],
   "source": [
    "df.dtypes"
   ]
  },
  {
   "cell_type": "code",
   "execution_count": 187,
   "id": "92fc4739-32f3-4ae9-afd9-2646b5bf7f67",
   "metadata": {
    "tags": []
   },
   "outputs": [
    {
     "data": {
      "text/html": [
       "<div>\n",
       "<style scoped>\n",
       "    .dataframe tbody tr th:only-of-type {\n",
       "        vertical-align: middle;\n",
       "    }\n",
       "\n",
       "    .dataframe tbody tr th {\n",
       "        vertical-align: top;\n",
       "    }\n",
       "\n",
       "    .dataframe thead th {\n",
       "        text-align: right;\n",
       "    }\n",
       "</style>\n",
       "<table border=\"1\" class=\"dataframe\">\n",
       "  <thead>\n",
       "    <tr style=\"text-align: right;\">\n",
       "      <th></th>\n",
       "      <th>Region</th>\n",
       "      <th>Magnitude</th>\n",
       "      <th>Depth</th>\n",
       "    </tr>\n",
       "  </thead>\n",
       "  <tbody>\n",
       "    <tr>\n",
       "      <th>0</th>\n",
       "      <td>Flores Region - Indonesia</td>\n",
       "      <td>2.9</td>\n",
       "      <td>10</td>\n",
       "    </tr>\n",
       "    <tr>\n",
       "      <th>1</th>\n",
       "      <td>Timor Region</td>\n",
       "      <td>3.4</td>\n",
       "      <td>76</td>\n",
       "    </tr>\n",
       "    <tr>\n",
       "      <th>2</th>\n",
       "      <td>Irian Jaya - Indonesia</td>\n",
       "      <td>3.8</td>\n",
       "      <td>12</td>\n",
       "    </tr>\n",
       "    <tr>\n",
       "      <th>3</th>\n",
       "      <td>Flores Region - Indonesia</td>\n",
       "      <td>3.5</td>\n",
       "      <td>10</td>\n",
       "    </tr>\n",
       "    <tr>\n",
       "      <th>4</th>\n",
       "      <td>Flores Region - Indonesia</td>\n",
       "      <td>3.0</td>\n",
       "      <td>10</td>\n",
       "    </tr>\n",
       "    <tr>\n",
       "      <th>...</th>\n",
       "      <td>...</td>\n",
       "      <td>...</td>\n",
       "      <td>...</td>\n",
       "    </tr>\n",
       "    <tr>\n",
       "      <th>12020</th>\n",
       "      <td>Talaud Islands - Indonesia</td>\n",
       "      <td>4.0</td>\n",
       "      <td>10</td>\n",
       "    </tr>\n",
       "    <tr>\n",
       "      <th>12021</th>\n",
       "      <td>Northern Molucca Sea</td>\n",
       "      <td>3.9</td>\n",
       "      <td>10</td>\n",
       "    </tr>\n",
       "    <tr>\n",
       "      <th>12022</th>\n",
       "      <td>Flores Sea</td>\n",
       "      <td>3.8</td>\n",
       "      <td>10</td>\n",
       "    </tr>\n",
       "    <tr>\n",
       "      <th>12023</th>\n",
       "      <td>Northern Molucca Sea</td>\n",
       "      <td>4.1</td>\n",
       "      <td>10</td>\n",
       "    </tr>\n",
       "    <tr>\n",
       "      <th>12024</th>\n",
       "      <td>Sumbawa Region - Indonesia</td>\n",
       "      <td>2.4</td>\n",
       "      <td>10</td>\n",
       "    </tr>\n",
       "  </tbody>\n",
       "</table>\n",
       "<p>12025 rows × 3 columns</p>\n",
       "</div>"
      ],
      "text/plain": [
       "                           Region  Magnitude  Depth\n",
       "0       Flores Region - Indonesia        2.9     10\n",
       "1                    Timor Region        3.4     76\n",
       "2          Irian Jaya - Indonesia        3.8     12\n",
       "3       Flores Region - Indonesia        3.5     10\n",
       "4       Flores Region - Indonesia        3.0     10\n",
       "...                           ...        ...    ...\n",
       "12020  Talaud Islands - Indonesia        4.0     10\n",
       "12021        Northern Molucca Sea        3.9     10\n",
       "12022                  Flores Sea        3.8     10\n",
       "12023        Northern Molucca Sea        4.1     10\n",
       "12024  Sumbawa Region - Indonesia        2.4     10\n",
       "\n",
       "[12025 rows x 3 columns]"
      ]
     },
     "execution_count": 187,
     "metadata": {},
     "output_type": "execute_result"
    }
   ],
   "source": [
    "tabel = df.loc[:,['Region','Magnitude', 'Depth']]\n",
    "tabel"
   ]
  },
  {
   "cell_type": "code",
   "execution_count": 188,
   "id": "6ef2e4e1-cfed-4b46-9a88-98f6783a4472",
   "metadata": {},
   "outputs": [
    {
     "name": "stdout",
     "output_type": "stream",
     "text": [
      "[[ 2.9 10. ]\n",
      " [ 3.4 76. ]\n",
      " [ 3.8 12. ]\n",
      " ...\n",
      " [ 3.8 10. ]\n",
      " [ 4.1 10. ]\n",
      " [ 2.4 10. ]]\n"
     ]
    }
   ],
   "source": [
    "x = tabel[['Magnitude', 'Depth']].values\n",
    "print(x)"
   ]
  },
  {
   "cell_type": "code",
   "execution_count": 189,
   "id": "3a36c6be-0000-4e55-ae65-be4f93f865bf",
   "metadata": {},
   "outputs": [
    {
     "data": {
      "image/png": "[encoded data removed]",
      "text/plain": [
       "<Figure size 800x550 with 1 Axes>"
      ]
     },
     "metadata": {},
     "output_type": "display_data"
    },
    {
     "data": {
      "text/plain": [
       "<AxesSubplot:title={'center':'Calinski Harabasz Score Elbow for KMeans Clustering'}, xlabel='k', ylabel='calinski harabasz score'>"
      ]
     },
     "execution_count": 189,
     "metadata": {},
     "output_type": "execute_result"
    }
   ],
   "source": [
    "from sklearn.cluster import KMeans\n",
    "from sklearn.datasets import make_blobs\n",
    "\n",
    "from yellowbrick.cluster import KElbowVisualizer\n",
    "\n",
    "# Generate synthetic dataset with 8 random clusters\n",
    "X, y = make_blobs(n_samples=12024, n_features=13, centers=3, random_state=42)\n",
    "\n",
    "# Instantiate the clustering model and visualizer\n",
    "model = KMeans()\n",
    "visualizer = KElbowVisualizer(\n",
    "    model, k=(3,13), metric='calinski_harabasz', timings=False\n",
    ")\n",
    "\n",
    "visualizer.fit(X)        # Fit the data to the visualizer\n",
    "visualizer.show()        # Finalize and render the figure"
   ]
  },
  {
   "cell_type": "code",
   "execution_count": 190,
   "id": "56c775d4-19bd-4c95-ac02-8c20f49c0feb",
   "metadata": {},
   "outputs": [
    {
     "data": {
      "text/plain": [
       "[<matplotlib.lines.Line2D at 0x2000a3197c0>]"
      ]
     },
     "execution_count": 190,
     "metadata": {},
     "output_type": "execute_result"
    },
    {
     "data": {
      "image/png": "[encoded data removed]",
      "text/plain": [
       "<Figure size 800x550 with 1 Axes>"
      ]
     },
     "metadata": {},
     "output_type": "display_data"
    }
   ],
   "source": [
    "#melihat visualisasi data dari x\n",
    "plt.plot(x[:,0],x[:,1],'ro')"
   ]
  },
  {
   "cell_type": "code",
   "execution_count": 191,
   "id": "5ac67e0c-985f-4401-bce5-66453ea1c687",
   "metadata": {},
   "outputs": [],
   "source": [
    "#inisialisasi nilai cluster 3\n",
    "kmeans = KMeans(n_clusters=3)"
   ]
  },
  {
   "cell_type": "code",
   "execution_count": 192,
   "id": "db4f33ba-c132-4c30-8034-b9858e42d5a6",
   "metadata": {},
   "outputs": [
    {
     "data": {
      "text/plain": [
       "KMeans(n_clusters=3)"
      ]
     },
     "execution_count": 192,
     "metadata": {},
     "output_type": "execute_result"
    }
   ],
   "source": [
    "#melakukan clustering dengan data x\n",
    "kmeans.fit(x)"
   ]
  },
  {
   "cell_type": "code",
   "execution_count": 193,
   "id": "ef4fcb9d-7f03-438a-a636-3bda17325bb2",
   "metadata": {},
   "outputs": [],
   "source": [
    "cluster = kmeans.cluster_centers_"
   ]
  },
  {
   "cell_type": "code",
   "execution_count": 194,
   "id": "73ff1a6a-e62d-4adf-a151-491607a83345",
   "metadata": {},
   "outputs": [
    {
     "name": "stdout",
     "output_type": "stream",
     "text": [
      "[[  3.34957455  19.60777958]\n",
      " [  4.37111111 459.45925926]\n",
      " [  3.72839445 141.72447968]]\n"
     ]
    }
   ],
   "source": [
    "#melihat pusat cluster 1-3\n",
    "print(cluster)"
   ]
  },
  {
   "cell_type": "code",
   "execution_count": 195,
   "id": "ac27b8bd-d0cc-4c2c-9f0b-540cd450ca4a",
   "metadata": {},
   "outputs": [
    {
     "name": "stderr",
     "output_type": "stream",
     "text": [
      "C:\\ProgramData\\Anaconda3\\lib\\site-packages\\sklearn\\utils\\validation.py:623: FutureWarning: is_sparse is deprecated and will be removed in a future version. Check `isinstance(dtype, pd.SparseDtype)` instead.\n",
      "  if not hasattr(array, \"sparse\") and array.dtypes.apply(is_sparse).any():\n"
     ]
    },
    {
     "data": {
      "text/plain": [
       "array([0, 0, 0, ..., 0, 0, 0])"
      ]
     },
     "execution_count": 195,
     "metadata": {},
     "output_type": "execute_result"
    }
   ],
   "source": [
    "y_predicted = kmeans.fit_predict(df[['Magnitude', 'Depth']])\n",
    "y_predicted"
   ]
  },
  {
   "cell_type": "code",
   "execution_count": 196,
   "id": "646773ea-8046-48d5-9006-f61f0e23d2af",
   "metadata": {
    "tags": []
   },
   "outputs": [
    {
     "data": {
      "image/png": "[encoded data removed]",
      "text/plain": [
       "<Figure size 800x550 with 1 Axes>"
      ]
     },
     "metadata": {},
     "output_type": "display_data"
    }
   ],
   "source": [
    "plt.scatter(x[:,0],x[:,1],c=kmeans.labels_,marker='o')\n",
    "centroids = kmeans.cluster_centers_\n",
    "labels = kmeans.labels_    \n",
    "plt.scatter(x[labels ==0,0], x[labels == 0,1], s=50, color='green',label='cluster 0')\n",
    "plt.scatter(x[labels ==1,0], x[labels == 1,1], s=50, color='blue',label='cluster 1')\n",
    "plt.scatter(x[labels ==2,0], x[labels == 2,1], s=50, color='yellow',label='cluster 2')\n",
    "plt.legend()\n",
    "plt.xlabel('Magnitude')\n",
    "plt.ylabel('Depth')\n",
    "plt.show()"
   ]
  },
  {
   "cell_type": "code",
   "execution_count": 197,
   "id": "57fbad53-cae7-48dc-af6d-aaea5bfe09f2",
   "metadata": {},
   "outputs": [
    {
     "data": {
      "text/plain": [
       "Cluster\n",
       "0    9872\n",
       "1    2018\n",
       "2     135\n",
       "Name: count, dtype: int64"
      ]
     },
     "execution_count": 197,
     "metadata": {},
     "output_type": "execute_result"
    }
   ],
   "source": [
    "tabel['Cluster'] = labels\n",
    "tabel['Cluster'].value_counts()"
   ]
  },
  {
   "cell_type": "code",
   "execution_count": 198,
   "id": "a69b957e-ae25-466c-91ae-ae20fb17d1a4",
   "metadata": {},
   "outputs": [
    {
     "data": {
      "text/html": [
       "<div>\n",
       "<style scoped>\n",
       "    .dataframe tbody tr th:only-of-type {\n",
       "        vertical-align: middle;\n",
       "    }\n",
       "\n",
       "    .dataframe tbody tr th {\n",
       "        vertical-align: top;\n",
       "    }\n",
       "\n",
       "    .dataframe thead th {\n",
       "        text-align: right;\n",
       "    }\n",
       "</style>\n",
       "<table border=\"1\" class=\"dataframe\">\n",
       "  <thead>\n",
       "    <tr style=\"text-align: right;\">\n",
       "      <th></th>\n",
       "      <th>Region</th>\n",
       "      <th>Magnitude</th>\n",
       "      <th>Depth</th>\n",
       "      <th>Cluster</th>\n",
       "    </tr>\n",
       "  </thead>\n",
       "  <tbody>\n",
       "    <tr>\n",
       "      <th>0</th>\n",
       "      <td>Flores Region - Indonesia</td>\n",
       "      <td>2.9</td>\n",
       "      <td>10</td>\n",
       "      <td>0</td>\n",
       "    </tr>\n",
       "    <tr>\n",
       "      <th>1</th>\n",
       "      <td>Timor Region</td>\n",
       "      <td>3.4</td>\n",
       "      <td>76</td>\n",
       "      <td>0</td>\n",
       "    </tr>\n",
       "    <tr>\n",
       "      <th>2</th>\n",
       "      <td>Irian Jaya - Indonesia</td>\n",
       "      <td>3.8</td>\n",
       "      <td>12</td>\n",
       "      <td>0</td>\n",
       "    </tr>\n",
       "    <tr>\n",
       "      <th>3</th>\n",
       "      <td>Flores Region - Indonesia</td>\n",
       "      <td>3.5</td>\n",
       "      <td>10</td>\n",
       "      <td>0</td>\n",
       "    </tr>\n",
       "    <tr>\n",
       "      <th>4</th>\n",
       "      <td>Flores Region - Indonesia</td>\n",
       "      <td>3.0</td>\n",
       "      <td>10</td>\n",
       "      <td>0</td>\n",
       "    </tr>\n",
       "    <tr>\n",
       "      <th>...</th>\n",
       "      <td>...</td>\n",
       "      <td>...</td>\n",
       "      <td>...</td>\n",
       "      <td>...</td>\n",
       "    </tr>\n",
       "    <tr>\n",
       "      <th>12020</th>\n",
       "      <td>Talaud Islands - Indonesia</td>\n",
       "      <td>4.0</td>\n",
       "      <td>10</td>\n",
       "      <td>0</td>\n",
       "    </tr>\n",
       "    <tr>\n",
       "      <th>12021</th>\n",
       "      <td>Northern Molucca Sea</td>\n",
       "      <td>3.9</td>\n",
       "      <td>10</td>\n",
       "      <td>0</td>\n",
       "    </tr>\n",
       "    <tr>\n",
       "      <th>12022</th>\n",
       "      <td>Flores Sea</td>\n",
       "      <td>3.8</td>\n",
       "      <td>10</td>\n",
       "      <td>0</td>\n",
       "    </tr>\n",
       "    <tr>\n",
       "      <th>12023</th>\n",
       "      <td>Northern Molucca Sea</td>\n",
       "      <td>4.1</td>\n",
       "      <td>10</td>\n",
       "      <td>0</td>\n",
       "    </tr>\n",
       "    <tr>\n",
       "      <th>12024</th>\n",
       "      <td>Sumbawa Region - Indonesia</td>\n",
       "      <td>2.4</td>\n",
       "      <td>10</td>\n",
       "      <td>0</td>\n",
       "    </tr>\n",
       "  </tbody>\n",
       "</table>\n",
       "<p>12025 rows × 4 columns</p>\n",
       "</div>"
      ],
      "text/plain": [
       "                           Region  Magnitude  Depth  Cluster\n",
       "0       Flores Region - Indonesia        2.9     10        0\n",
       "1                    Timor Region        3.4     76        0\n",
       "2          Irian Jaya - Indonesia        3.8     12        0\n",
       "3       Flores Region - Indonesia        3.5     10        0\n",
       "4       Flores Region - Indonesia        3.0     10        0\n",
       "...                           ...        ...    ...      ...\n",
       "12020  Talaud Islands - Indonesia        4.0     10        0\n",
       "12021        Northern Molucca Sea        3.9     10        0\n",
       "12022                  Flores Sea        3.8     10        0\n",
       "12023        Northern Molucca Sea        4.1     10        0\n",
       "12024  Sumbawa Region - Indonesia        2.4     10        0\n",
       "\n",
       "[12025 rows x 4 columns]"
      ]
     },
     "execution_count": 198,
     "metadata": {},
     "output_type": "execute_result"
    }
   ],
   "source": [
    "tabel"
   ]
  },
  {
   "cell_type": "code",
   "execution_count": 111,
   "id": "67a71cb5-dee8-4908-b3db-e030642542c1",
   "metadata": {},
   "outputs": [],
   "source": [
    "import joblib\n",
    "from sklearn.cluster import KMeans\n",
    "from sklearn.datasets import make_blobs\n",
    "from keras.models import load_model\n",
    "\n",
    "# Generate synthetic dataset with 8 random clusters\n",
    "X, y = make_blobs(n_samples=12024, n_features=13, centers=3, random_state=42)\n",
    "\n",
    "# Instantiate the clustering model\n",
    "kmeans = KMeans(n_clusters=3)\n",
    "\n",
    "# Fit the data to the model\n",
    "kmeans.fit(X)\n",
    "\n",
    "# Save the model using joblib\n",
    "joblib.dump(kmeans, 'kmeans_model.h5')\n",
    "\n",
    "# Load the model\n",
    "loaded_model = joblib.load('kmeans_model.h5')\n",
    "\n",
    "# Now, you can use the loaded_model for predictions"
   ]
  }
 ],
 "metadata": {
  "kernelspec": {
   "display_name": "Python 3 (ipykernel)",
   "language": "python",
   "name": "python3"
  },
  "language_info": {
   "codemirror_mode": {
    "name": "ipython",
    "version": 3
   },
   "file_extension": ".py",
   "mimetype": "text/x-python",
   "name": "python",
   "nbconvert_exporter": "python",
   "pygments_lexer": "ipython3",
   "version": "3.9.13"
  }
 },
 "nbformat": 4,
 "nbformat_minor": 5
}
