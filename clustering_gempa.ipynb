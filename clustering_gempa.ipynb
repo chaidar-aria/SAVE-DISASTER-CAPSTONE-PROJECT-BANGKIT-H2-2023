{
 "cells": [
  {
   "cell_type": "markdown",
   "id": "69457ec2-df3b-41fd-9fe6-26a672a195eb",
   "metadata": {
    "tags": []
   },
   "source": [
    "### 1. Import the libraries needed in the model to be run "
   ]
  },
  {
   "cell_type": "code",
   "execution_count": 3,
   "id": "306c5911-524c-4a93-a1fd-7b1feb3ddc0a",
   "metadata": {
    "tags": []
   },
   "outputs": [],
   "source": [
    "import random\n",
    "import math\n",
    "import numpy as np\n",
    "import matplotlib.pyplot as plt\n",
    "import csv\n",
    "import h5py\n",
    "import pandas as pd"
   ]
  },
  {
   "cell_type": "markdown",
   "id": "47f0ec43-6243-4062-b422-3886210c35e8",
   "metadata": {},
   "source": [
    "### 2. Loading earthquake datasets from 2022 to 2023"
   ]
  },
  {
   "cell_type": "code",
   "execution_count": 15,
   "id": "4b1b118f-d19c-403b-8b09-f48a7276962b",
   "metadata": {
    "collapsed": true,
    "jupyter": {
     "outputs_hidden": true
    },
    "tags": []
   },
   "outputs": [
    {
     "data": {
      "text/html": [
       "<div>\n",
       "<style scoped>\n",
       "    .dataframe tbody tr th:only-of-type {\n",
       "        vertical-align: middle;\n",
       "    }\n",
       "\n",
       "    .dataframe tbody tr th {\n",
       "        vertical-align: top;\n",
       "    }\n",
       "\n",
       "    .dataframe thead th {\n",
       "        text-align: right;\n",
       "    }\n",
       "</style>\n",
       "<table border=\"1\" class=\"dataframe\">\n",
       "  <thead>\n",
       "    <tr style=\"text-align: right;\">\n",
       "      <th></th>\n",
       "      <th>tgl</th>\n",
       "      <th>ot</th>\n",
       "      <th>lat</th>\n",
       "      <th>lon</th>\n",
       "      <th>depth</th>\n",
       "      <th>mag</th>\n",
       "      <th>remark</th>\n",
       "      <th>strike1</th>\n",
       "      <th>dip1</th>\n",
       "      <th>rake1</th>\n",
       "      <th>strike2</th>\n",
       "      <th>dip2</th>\n",
       "      <th>rake2</th>\n",
       "    </tr>\n",
       "  </thead>\n",
       "  <tbody>\n",
       "    <tr>\n",
       "      <th>0</th>\n",
       "      <td>2022-01-01</td>\n",
       "      <td>23:50:06.226</td>\n",
       "      <td>-8.13</td>\n",
       "      <td>122.38</td>\n",
       "      <td>10</td>\n",
       "      <td>2.9</td>\n",
       "      <td>Flores Region - Indonesia</td>\n",
       "      <td>NaN</td>\n",
       "      <td>NaN</td>\n",
       "      <td>NaN</td>\n",
       "      <td>NaN</td>\n",
       "      <td>NaN</td>\n",
       "      <td>NaN</td>\n",
       "    </tr>\n",
       "    <tr>\n",
       "      <th>1</th>\n",
       "      <td>2022-01-01</td>\n",
       "      <td>23:48:17.777</td>\n",
       "      <td>-8.85</td>\n",
       "      <td>124.11</td>\n",
       "      <td>76</td>\n",
       "      <td>3.4</td>\n",
       "      <td>Timor Region</td>\n",
       "      <td>NaN</td>\n",
       "      <td>NaN</td>\n",
       "      <td>NaN</td>\n",
       "      <td>NaN</td>\n",
       "      <td>NaN</td>\n",
       "      <td>NaN</td>\n",
       "    </tr>\n",
       "    <tr>\n",
       "      <th>2</th>\n",
       "      <td>2022-01-01</td>\n",
       "      <td>22:30:50.962</td>\n",
       "      <td>-3.59</td>\n",
       "      <td>140.21</td>\n",
       "      <td>12</td>\n",
       "      <td>3.8</td>\n",
       "      <td>Irian Jaya - Indonesia</td>\n",
       "      <td>NaN</td>\n",
       "      <td>NaN</td>\n",
       "      <td>NaN</td>\n",
       "      <td>NaN</td>\n",
       "      <td>NaN</td>\n",
       "      <td>NaN</td>\n",
       "    </tr>\n",
       "    <tr>\n",
       "      <th>3</th>\n",
       "      <td>2022-01-01</td>\n",
       "      <td>22:15:37.661</td>\n",
       "      <td>-8.03</td>\n",
       "      <td>122.35</td>\n",
       "      <td>10</td>\n",
       "      <td>3.5</td>\n",
       "      <td>Flores Region - Indonesia</td>\n",
       "      <td>NaN</td>\n",
       "      <td>NaN</td>\n",
       "      <td>NaN</td>\n",
       "      <td>NaN</td>\n",
       "      <td>NaN</td>\n",
       "      <td>NaN</td>\n",
       "    </tr>\n",
       "    <tr>\n",
       "      <th>4</th>\n",
       "      <td>2022-01-01</td>\n",
       "      <td>22:14:01.632</td>\n",
       "      <td>-8.04</td>\n",
       "      <td>122.39</td>\n",
       "      <td>10</td>\n",
       "      <td>3.0</td>\n",
       "      <td>Flores Region - Indonesia</td>\n",
       "      <td>NaN</td>\n",
       "      <td>NaN</td>\n",
       "      <td>NaN</td>\n",
       "      <td>NaN</td>\n",
       "      <td>NaN</td>\n",
       "      <td>NaN</td>\n",
       "    </tr>\n",
       "    <tr>\n",
       "      <th>...</th>\n",
       "      <td>...</td>\n",
       "      <td>...</td>\n",
       "      <td>...</td>\n",
       "      <td>...</td>\n",
       "      <td>...</td>\n",
       "      <td>...</td>\n",
       "      <td>...</td>\n",
       "      <td>...</td>\n",
       "      <td>...</td>\n",
       "      <td>...</td>\n",
       "      <td>...</td>\n",
       "      <td>...</td>\n",
       "      <td>...</td>\n",
       "    </tr>\n",
       "    <tr>\n",
       "      <th>12020</th>\n",
       "      <td>2023-01-26</td>\n",
       "      <td>02:25:09.288</td>\n",
       "      <td>3.24</td>\n",
       "      <td>127.18</td>\n",
       "      <td>10</td>\n",
       "      <td>4.0</td>\n",
       "      <td>Talaud Islands - Indonesia</td>\n",
       "      <td>NaN</td>\n",
       "      <td>NaN</td>\n",
       "      <td>NaN</td>\n",
       "      <td>NaN</td>\n",
       "      <td>NaN</td>\n",
       "      <td>NaN</td>\n",
       "    </tr>\n",
       "    <tr>\n",
       "      <th>12021</th>\n",
       "      <td>2023-01-26</td>\n",
       "      <td>02:15:03.893</td>\n",
       "      <td>2.70</td>\n",
       "      <td>127.10</td>\n",
       "      <td>10</td>\n",
       "      <td>3.9</td>\n",
       "      <td>Northern Molucca Sea</td>\n",
       "      <td>NaN</td>\n",
       "      <td>NaN</td>\n",
       "      <td>NaN</td>\n",
       "      <td>NaN</td>\n",
       "      <td>NaN</td>\n",
       "      <td>NaN</td>\n",
       "    </tr>\n",
       "    <tr>\n",
       "      <th>12022</th>\n",
       "      <td>2023-01-26</td>\n",
       "      <td>01:57:08.885</td>\n",
       "      <td>-7.83</td>\n",
       "      <td>121.07</td>\n",
       "      <td>10</td>\n",
       "      <td>3.8</td>\n",
       "      <td>Flores Sea</td>\n",
       "      <td>NaN</td>\n",
       "      <td>NaN</td>\n",
       "      <td>NaN</td>\n",
       "      <td>NaN</td>\n",
       "      <td>NaN</td>\n",
       "      <td>NaN</td>\n",
       "    </tr>\n",
       "    <tr>\n",
       "      <th>12023</th>\n",
       "      <td>2023-01-26</td>\n",
       "      <td>01:46:21.009</td>\n",
       "      <td>3.00</td>\n",
       "      <td>127.16</td>\n",
       "      <td>10</td>\n",
       "      <td>4.1</td>\n",
       "      <td>Northern Molucca Sea</td>\n",
       "      <td>NaN</td>\n",
       "      <td>NaN</td>\n",
       "      <td>NaN</td>\n",
       "      <td>NaN</td>\n",
       "      <td>NaN</td>\n",
       "      <td>NaN</td>\n",
       "    </tr>\n",
       "    <tr>\n",
       "      <th>12024</th>\n",
       "      <td>2023-01-26</td>\n",
       "      <td>00:00:35.181</td>\n",
       "      <td>-8.87</td>\n",
       "      <td>118.95</td>\n",
       "      <td>10</td>\n",
       "      <td>2.4</td>\n",
       "      <td>Sumbawa Region - Indonesia</td>\n",
       "      <td>NaN</td>\n",
       "      <td>NaN</td>\n",
       "      <td>NaN</td>\n",
       "      <td>NaN</td>\n",
       "      <td>NaN</td>\n",
       "      <td>NaN</td>\n",
       "    </tr>\n",
       "  </tbody>\n",
       "</table>\n",
       "<p>12025 rows × 13 columns</p>\n",
       "</div>"
      ],
      "text/plain": [
       "              tgl            ot   lat     lon  depth  mag  \\\n",
       "0      2022-01-01  23:50:06.226 -8.13  122.38     10  2.9   \n",
       "1      2022-01-01  23:48:17.777 -8.85  124.11     76  3.4   \n",
       "2      2022-01-01  22:30:50.962 -3.59  140.21     12  3.8   \n",
       "3      2022-01-01  22:15:37.661 -8.03  122.35     10  3.5   \n",
       "4      2022-01-01  22:14:01.632 -8.04  122.39     10  3.0   \n",
       "...           ...           ...   ...     ...    ...  ...   \n",
       "12020  2023-01-26  02:25:09.288  3.24  127.18     10  4.0   \n",
       "12021  2023-01-26  02:15:03.893  2.70  127.10     10  3.9   \n",
       "12022  2023-01-26  01:57:08.885 -7.83  121.07     10  3.8   \n",
       "12023  2023-01-26  01:46:21.009  3.00  127.16     10  4.1   \n",
       "12024  2023-01-26  00:00:35.181 -8.87  118.95     10  2.4   \n",
       "\n",
       "                           remark  strike1  dip1  rake1  strike2  dip2  rake2  \n",
       "0       Flores Region - Indonesia      NaN   NaN    NaN      NaN   NaN    NaN  \n",
       "1                    Timor Region      NaN   NaN    NaN      NaN   NaN    NaN  \n",
       "2          Irian Jaya - Indonesia      NaN   NaN    NaN      NaN   NaN    NaN  \n",
       "3       Flores Region - Indonesia      NaN   NaN    NaN      NaN   NaN    NaN  \n",
       "4       Flores Region - Indonesia      NaN   NaN    NaN      NaN   NaN    NaN  \n",
       "...                           ...      ...   ...    ...      ...   ...    ...  \n",
       "12020  Talaud Islands - Indonesia      NaN   NaN    NaN      NaN   NaN    NaN  \n",
       "12021        Northern Molucca Sea      NaN   NaN    NaN      NaN   NaN    NaN  \n",
       "12022                  Flores Sea      NaN   NaN    NaN      NaN   NaN    NaN  \n",
       "12023        Northern Molucca Sea      NaN   NaN    NaN      NaN   NaN    NaN  \n",
       "12024  Sumbawa Region - Indonesia      NaN   NaN    NaN      NaN   NaN    NaN  \n",
       "\n",
       "[12025 rows x 13 columns]"
      ]
     },
     "execution_count": 15,
     "metadata": {},
     "output_type": "execute_result"
    }
   ],
   "source": [
    "df = pd.read_csv('gempa22_23.csv')\n",
    "df"
   ]
  },
  {
   "cell_type": "markdown",
   "id": "f0980557-a5af-4cf1-8d39-5d11f186ac12",
   "metadata": {},
   "source": [
    "### 3. Drop data columns that are not used and have NaN values"
   ]
  },
  {
   "cell_type": "code",
   "execution_count": 16,
   "id": "bf177d8c-731a-4ca6-ac02-84650f78c808",
   "metadata": {
    "collapsed": true,
    "jupyter": {
     "outputs_hidden": true
    },
    "tags": []
   },
   "outputs": [
    {
     "data": {
      "text/html": [
       "<div>\n",
       "<style scoped>\n",
       "    .dataframe tbody tr th:only-of-type {\n",
       "        vertical-align: middle;\n",
       "    }\n",
       "\n",
       "    .dataframe tbody tr th {\n",
       "        vertical-align: top;\n",
       "    }\n",
       "\n",
       "    .dataframe thead th {\n",
       "        text-align: right;\n",
       "    }\n",
       "</style>\n",
       "<table border=\"1\" class=\"dataframe\">\n",
       "  <thead>\n",
       "    <tr style=\"text-align: right;\">\n",
       "      <th></th>\n",
       "      <th>lat</th>\n",
       "      <th>lon</th>\n",
       "      <th>depth</th>\n",
       "      <th>mag</th>\n",
       "      <th>remark</th>\n",
       "    </tr>\n",
       "  </thead>\n",
       "  <tbody>\n",
       "    <tr>\n",
       "      <th>0</th>\n",
       "      <td>-8.13</td>\n",
       "      <td>122.38</td>\n",
       "      <td>10</td>\n",
       "      <td>2.9</td>\n",
       "      <td>Flores Region - Indonesia</td>\n",
       "    </tr>\n",
       "    <tr>\n",
       "      <th>1</th>\n",
       "      <td>-8.85</td>\n",
       "      <td>124.11</td>\n",
       "      <td>76</td>\n",
       "      <td>3.4</td>\n",
       "      <td>Timor Region</td>\n",
       "    </tr>\n",
       "    <tr>\n",
       "      <th>2</th>\n",
       "      <td>-3.59</td>\n",
       "      <td>140.21</td>\n",
       "      <td>12</td>\n",
       "      <td>3.8</td>\n",
       "      <td>Irian Jaya - Indonesia</td>\n",
       "    </tr>\n",
       "    <tr>\n",
       "      <th>3</th>\n",
       "      <td>-8.03</td>\n",
       "      <td>122.35</td>\n",
       "      <td>10</td>\n",
       "      <td>3.5</td>\n",
       "      <td>Flores Region - Indonesia</td>\n",
       "    </tr>\n",
       "    <tr>\n",
       "      <th>4</th>\n",
       "      <td>-8.04</td>\n",
       "      <td>122.39</td>\n",
       "      <td>10</td>\n",
       "      <td>3.0</td>\n",
       "      <td>Flores Region - Indonesia</td>\n",
       "    </tr>\n",
       "    <tr>\n",
       "      <th>...</th>\n",
       "      <td>...</td>\n",
       "      <td>...</td>\n",
       "      <td>...</td>\n",
       "      <td>...</td>\n",
       "      <td>...</td>\n",
       "    </tr>\n",
       "    <tr>\n",
       "      <th>12020</th>\n",
       "      <td>3.24</td>\n",
       "      <td>127.18</td>\n",
       "      <td>10</td>\n",
       "      <td>4.0</td>\n",
       "      <td>Talaud Islands - Indonesia</td>\n",
       "    </tr>\n",
       "    <tr>\n",
       "      <th>12021</th>\n",
       "      <td>2.70</td>\n",
       "      <td>127.10</td>\n",
       "      <td>10</td>\n",
       "      <td>3.9</td>\n",
       "      <td>Northern Molucca Sea</td>\n",
       "    </tr>\n",
       "    <tr>\n",
       "      <th>12022</th>\n",
       "      <td>-7.83</td>\n",
       "      <td>121.07</td>\n",
       "      <td>10</td>\n",
       "      <td>3.8</td>\n",
       "      <td>Flores Sea</td>\n",
       "    </tr>\n",
       "    <tr>\n",
       "      <th>12023</th>\n",
       "      <td>3.00</td>\n",
       "      <td>127.16</td>\n",
       "      <td>10</td>\n",
       "      <td>4.1</td>\n",
       "      <td>Northern Molucca Sea</td>\n",
       "    </tr>\n",
       "    <tr>\n",
       "      <th>12024</th>\n",
       "      <td>-8.87</td>\n",
       "      <td>118.95</td>\n",
       "      <td>10</td>\n",
       "      <td>2.4</td>\n",
       "      <td>Sumbawa Region - Indonesia</td>\n",
       "    </tr>\n",
       "  </tbody>\n",
       "</table>\n",
       "<p>12025 rows × 5 columns</p>\n",
       "</div>"
      ],
      "text/plain": [
       "        lat     lon  depth  mag                      remark\n",
       "0     -8.13  122.38     10  2.9   Flores Region - Indonesia\n",
       "1     -8.85  124.11     76  3.4                Timor Region\n",
       "2     -3.59  140.21     12  3.8      Irian Jaya - Indonesia\n",
       "3     -8.03  122.35     10  3.5   Flores Region - Indonesia\n",
       "4     -8.04  122.39     10  3.0   Flores Region - Indonesia\n",
       "...     ...     ...    ...  ...                         ...\n",
       "12020  3.24  127.18     10  4.0  Talaud Islands - Indonesia\n",
       "12021  2.70  127.10     10  3.9        Northern Molucca Sea\n",
       "12022 -7.83  121.07     10  3.8                  Flores Sea\n",
       "12023  3.00  127.16     10  4.1        Northern Molucca Sea\n",
       "12024 -8.87  118.95     10  2.4  Sumbawa Region - Indonesia\n",
       "\n",
       "[12025 rows x 5 columns]"
      ]
     },
     "execution_count": 16,
     "metadata": {},
     "output_type": "execute_result"
    }
   ],
   "source": [
    "df.drop(['strike1','dip1','rake1','strike2','dip2','rake2','ot','tgl'], axis=1, inplace=True)\n",
    "df"
   ]
  },
  {
   "cell_type": "markdown",
   "id": "655c3b17-9706-41b9-bd35-7749446bfa63",
   "metadata": {},
   "source": [
    "### 4. Rename the columns so that the dataset can be read clearly"
   ]
  },
  {
   "cell_type": "code",
   "execution_count": 17,
   "id": "698877ef-e8d7-4508-a556-ae6ab846cdc5",
   "metadata": {
    "tags": []
   },
   "outputs": [
    {
     "data": {
      "text/plain": [
       "['Latitude', 'Longitude', 'Depth', 'Magnitude', 'Region']"
      ]
     },
     "execution_count": 17,
     "metadata": {},
     "output_type": "execute_result"
    }
   ],
   "source": [
    "col_names = ['Latitude', 'Longitude', 'Depth', 'Magnitude','Region']\n",
    "df.columns = col_names\n",
    "col_names"
   ]
  },
  {
   "cell_type": "markdown",
   "id": "4fc0dfcc-22c9-4b5e-9231-efcea7bda9f8",
   "metadata": {},
   "source": [
    "### 5. Remove the symbols in the region column data. So that the cities listed are clear"
   ]
  },
  {
   "cell_type": "code",
   "execution_count": 18,
   "id": "9a85deb8-da75-43c6-b1e3-83711b281a2f",
   "metadata": {
    "tags": []
   },
   "outputs": [],
   "source": [
    "# Menghilangkan spasi tambahan di sepanjang string pada kolom 'Region'\n",
    "df['Region'] = df['Region'].str.strip()"
   ]
  },
  {
   "cell_type": "code",
   "execution_count": 19,
   "id": "1fa7af60-ebf4-4149-85ca-6d904d52014f",
   "metadata": {
    "tags": []
   },
   "outputs": [],
   "source": [
    "# Menghilangkan tanda ; dari setiap string pada kolom 'Region'\n",
    "df['Region'] = df['Region'].str.replace(';', '')\n",
    "df.to_csv('data_gempa.csv', index=False)"
   ]
  },
  {
   "cell_type": "markdown",
   "id": "55a81a2a-4fba-4075-9206-b3285e78989d",
   "metadata": {},
   "source": [
    "### 6. Bring up a new dataset that has been pre-processing"
   ]
  },
  {
   "cell_type": "code",
   "execution_count": 20,
   "id": "cc5935a3-0a68-4bc7-8b25-6b4de16d992d",
   "metadata": {
    "collapsed": true,
    "jupyter": {
     "outputs_hidden": true
    },
    "tags": []
   },
   "outputs": [
    {
     "data": {
      "text/html": [
       "<div>\n",
       "<style scoped>\n",
       "    .dataframe tbody tr th:only-of-type {\n",
       "        vertical-align: middle;\n",
       "    }\n",
       "\n",
       "    .dataframe tbody tr th {\n",
       "        vertical-align: top;\n",
       "    }\n",
       "\n",
       "    .dataframe thead th {\n",
       "        text-align: right;\n",
       "    }\n",
       "</style>\n",
       "<table border=\"1\" class=\"dataframe\">\n",
       "  <thead>\n",
       "    <tr style=\"text-align: right;\">\n",
       "      <th></th>\n",
       "      <th>Magnitude</th>\n",
       "      <th>Depth</th>\n",
       "      <th>Region</th>\n",
       "    </tr>\n",
       "  </thead>\n",
       "  <tbody>\n",
       "    <tr>\n",
       "      <th>0</th>\n",
       "      <td>2.9</td>\n",
       "      <td>10</td>\n",
       "      <td>Flores Region - Indonesia</td>\n",
       "    </tr>\n",
       "    <tr>\n",
       "      <th>1</th>\n",
       "      <td>3.4</td>\n",
       "      <td>76</td>\n",
       "      <td>Timor Region</td>\n",
       "    </tr>\n",
       "    <tr>\n",
       "      <th>2</th>\n",
       "      <td>3.8</td>\n",
       "      <td>12</td>\n",
       "      <td>Irian Jaya - Indonesia</td>\n",
       "    </tr>\n",
       "    <tr>\n",
       "      <th>3</th>\n",
       "      <td>3.5</td>\n",
       "      <td>10</td>\n",
       "      <td>Flores Region - Indonesia</td>\n",
       "    </tr>\n",
       "    <tr>\n",
       "      <th>4</th>\n",
       "      <td>3.0</td>\n",
       "      <td>10</td>\n",
       "      <td>Flores Region - Indonesia</td>\n",
       "    </tr>\n",
       "    <tr>\n",
       "      <th>...</th>\n",
       "      <td>...</td>\n",
       "      <td>...</td>\n",
       "      <td>...</td>\n",
       "    </tr>\n",
       "    <tr>\n",
       "      <th>12020</th>\n",
       "      <td>4.0</td>\n",
       "      <td>10</td>\n",
       "      <td>Talaud Islands - Indonesia</td>\n",
       "    </tr>\n",
       "    <tr>\n",
       "      <th>12021</th>\n",
       "      <td>3.9</td>\n",
       "      <td>10</td>\n",
       "      <td>Northern Molucca Sea</td>\n",
       "    </tr>\n",
       "    <tr>\n",
       "      <th>12022</th>\n",
       "      <td>3.8</td>\n",
       "      <td>10</td>\n",
       "      <td>Flores Sea</td>\n",
       "    </tr>\n",
       "    <tr>\n",
       "      <th>12023</th>\n",
       "      <td>4.1</td>\n",
       "      <td>10</td>\n",
       "      <td>Northern Molucca Sea</td>\n",
       "    </tr>\n",
       "    <tr>\n",
       "      <th>12024</th>\n",
       "      <td>2.4</td>\n",
       "      <td>10</td>\n",
       "      <td>Sumbawa Region - Indonesia</td>\n",
       "    </tr>\n",
       "  </tbody>\n",
       "</table>\n",
       "<p>12025 rows × 3 columns</p>\n",
       "</div>"
      ],
      "text/plain": [
       "       Magnitude  Depth                      Region\n",
       "0            2.9     10   Flores Region - Indonesia\n",
       "1            3.4     76                Timor Region\n",
       "2            3.8     12      Irian Jaya - Indonesia\n",
       "3            3.5     10   Flores Region - Indonesia\n",
       "4            3.0     10   Flores Region - Indonesia\n",
       "...          ...    ...                         ...\n",
       "12020        4.0     10  Talaud Islands - Indonesia\n",
       "12021        3.9     10        Northern Molucca Sea\n",
       "12022        3.8     10                  Flores Sea\n",
       "12023        4.1     10        Northern Molucca Sea\n",
       "12024        2.4     10  Sumbawa Region - Indonesia\n",
       "\n",
       "[12025 rows x 3 columns]"
      ]
     },
     "execution_count": 20,
     "metadata": {},
     "output_type": "execute_result"
    }
   ],
   "source": [
    "tabel = df.loc[:,['Magnitude','Depth', 'Region']]\n",
    "tabel"
   ]
  },
  {
   "cell_type": "markdown",
   "id": "44147253-901e-493a-9c27-8255f9598465",
   "metadata": {},
   "source": [
    "### 7. Checking data that has NaN or null values"
   ]
  },
  {
   "cell_type": "code",
   "execution_count": 21,
   "id": "a1b56fa9-e1ae-4f58-85ad-8355ff71e668",
   "metadata": {
    "tags": []
   },
   "outputs": [
    {
     "data": {
      "text/plain": [
       "Latitude     0\n",
       "Longitude    0\n",
       "Depth        0\n",
       "Magnitude    0\n",
       "Region       0\n",
       "dtype: int64"
      ]
     },
     "execution_count": 21,
     "metadata": {},
     "output_type": "execute_result"
    }
   ],
   "source": [
    "df.isna().sum()"
   ]
  },
  {
   "cell_type": "markdown",
   "id": "1f13ee42-3c1c-4bca-af57-b3cf73211afe",
   "metadata": {},
   "source": [
    "### 8. Checking the data types present in the dataset"
   ]
  },
  {
   "cell_type": "code",
   "execution_count": 22,
   "id": "f1175c4e-7d36-42dc-8927-e24d0e6fbb32",
   "metadata": {
    "tags": []
   },
   "outputs": [
    {
     "data": {
      "text/plain": [
       "Latitude     float64\n",
       "Longitude    float64\n",
       "Depth          int64\n",
       "Magnitude    float64\n",
       "Region        object\n",
       "dtype: object"
      ]
     },
     "execution_count": 22,
     "metadata": {},
     "output_type": "execute_result"
    }
   ],
   "source": [
    "df.dtypes"
   ]
  },
  {
   "cell_type": "markdown",
   "id": "bb092c16-2dcd-4aeb-856e-26547f925840",
   "metadata": {},
   "source": [
    "### 9. Creates a new DataFrame called table, which consists of the columns 'Region', 'Magnitude', and 'Depth' from the initial DataFrame (df)."
   ]
  },
  {
   "cell_type": "code",
   "execution_count": 23,
   "id": "92fc4739-32f3-4ae9-afd9-2646b5bf7f67",
   "metadata": {
    "collapsed": true,
    "jupyter": {
     "outputs_hidden": true
    },
    "tags": []
   },
   "outputs": [
    {
     "data": {
      "text/html": [
       "<div>\n",
       "<style scoped>\n",
       "    .dataframe tbody tr th:only-of-type {\n",
       "        vertical-align: middle;\n",
       "    }\n",
       "\n",
       "    .dataframe tbody tr th {\n",
       "        vertical-align: top;\n",
       "    }\n",
       "\n",
       "    .dataframe thead th {\n",
       "        text-align: right;\n",
       "    }\n",
       "</style>\n",
       "<table border=\"1\" class=\"dataframe\">\n",
       "  <thead>\n",
       "    <tr style=\"text-align: right;\">\n",
       "      <th></th>\n",
       "      <th>Region</th>\n",
       "      <th>Magnitude</th>\n",
       "      <th>Depth</th>\n",
       "    </tr>\n",
       "  </thead>\n",
       "  <tbody>\n",
       "    <tr>\n",
       "      <th>0</th>\n",
       "      <td>Flores Region - Indonesia</td>\n",
       "      <td>2.9</td>\n",
       "      <td>10</td>\n",
       "    </tr>\n",
       "    <tr>\n",
       "      <th>1</th>\n",
       "      <td>Timor Region</td>\n",
       "      <td>3.4</td>\n",
       "      <td>76</td>\n",
       "    </tr>\n",
       "    <tr>\n",
       "      <th>2</th>\n",
       "      <td>Irian Jaya - Indonesia</td>\n",
       "      <td>3.8</td>\n",
       "      <td>12</td>\n",
       "    </tr>\n",
       "    <tr>\n",
       "      <th>3</th>\n",
       "      <td>Flores Region - Indonesia</td>\n",
       "      <td>3.5</td>\n",
       "      <td>10</td>\n",
       "    </tr>\n",
       "    <tr>\n",
       "      <th>4</th>\n",
       "      <td>Flores Region - Indonesia</td>\n",
       "      <td>3.0</td>\n",
       "      <td>10</td>\n",
       "    </tr>\n",
       "    <tr>\n",
       "      <th>...</th>\n",
       "      <td>...</td>\n",
       "      <td>...</td>\n",
       "      <td>...</td>\n",
       "    </tr>\n",
       "    <tr>\n",
       "      <th>12020</th>\n",
       "      <td>Talaud Islands - Indonesia</td>\n",
       "      <td>4.0</td>\n",
       "      <td>10</td>\n",
       "    </tr>\n",
       "    <tr>\n",
       "      <th>12021</th>\n",
       "      <td>Northern Molucca Sea</td>\n",
       "      <td>3.9</td>\n",
       "      <td>10</td>\n",
       "    </tr>\n",
       "    <tr>\n",
       "      <th>12022</th>\n",
       "      <td>Flores Sea</td>\n",
       "      <td>3.8</td>\n",
       "      <td>10</td>\n",
       "    </tr>\n",
       "    <tr>\n",
       "      <th>12023</th>\n",
       "      <td>Northern Molucca Sea</td>\n",
       "      <td>4.1</td>\n",
       "      <td>10</td>\n",
       "    </tr>\n",
       "    <tr>\n",
       "      <th>12024</th>\n",
       "      <td>Sumbawa Region - Indonesia</td>\n",
       "      <td>2.4</td>\n",
       "      <td>10</td>\n",
       "    </tr>\n",
       "  </tbody>\n",
       "</table>\n",
       "<p>12025 rows × 3 columns</p>\n",
       "</div>"
      ],
      "text/plain": [
       "                           Region  Magnitude  Depth\n",
       "0       Flores Region - Indonesia        2.9     10\n",
       "1                    Timor Region        3.4     76\n",
       "2          Irian Jaya - Indonesia        3.8     12\n",
       "3       Flores Region - Indonesia        3.5     10\n",
       "4       Flores Region - Indonesia        3.0     10\n",
       "...                           ...        ...    ...\n",
       "12020  Talaud Islands - Indonesia        4.0     10\n",
       "12021        Northern Molucca Sea        3.9     10\n",
       "12022                  Flores Sea        3.8     10\n",
       "12023        Northern Molucca Sea        4.1     10\n",
       "12024  Sumbawa Region - Indonesia        2.4     10\n",
       "\n",
       "[12025 rows x 3 columns]"
      ]
     },
     "execution_count": 23,
     "metadata": {},
     "output_type": "execute_result"
    }
   ],
   "source": [
    "tabel = df.loc[:,['Region','Magnitude', 'Depth']]\n",
    "tabel"
   ]
  },
  {
   "cell_type": "markdown",
   "id": "43089be4-d0a2-4fbd-8640-de3822b0becb",
   "metadata": {},
   "source": [
    "### 10. Takes the values from the 'Magnitude' and 'Depth' columns in the DataFrame table and converts them to a NumPy array."
   ]
  },
  {
   "cell_type": "code",
   "execution_count": 24,
   "id": "6ef2e4e1-cfed-4b46-9a88-98f6783a4472",
   "metadata": {
    "tags": []
   },
   "outputs": [
    {
     "name": "stdout",
     "output_type": "stream",
     "text": [
      "[[ 2.9 10. ]\n",
      " [ 3.4 76. ]\n",
      " [ 3.8 12. ]\n",
      " ...\n",
      " [ 3.8 10. ]\n",
      " [ 4.1 10. ]\n",
      " [ 2.4 10. ]]\n"
     ]
    }
   ],
   "source": [
    "x = tabel[['Magnitude', 'Depth']].values\n",
    "print(x)"
   ]
  },
  {
   "cell_type": "markdown",
   "id": "2d28f6e7-a215-4b55-9212-cc959ec85760",
   "metadata": {},
   "source": [
    "### 11. Determine the optimal number of clusters in a dataset using the \"elbow method\"."
   ]
  },
  {
   "cell_type": "code",
   "execution_count": 26,
   "id": "3a36c6be-0000-4e55-ae65-be4f93f865bf",
   "metadata": {
    "collapsed": true,
    "jupyter": {
     "outputs_hidden": true
    },
    "tags": []
   },
   "outputs": [
    {
     "name": "stderr",
     "output_type": "stream",
     "text": [
      "E:\\ANACONDA\\Lib\\site-packages\\sklearn\\cluster\\_kmeans.py:1412: FutureWarning: The default value of `n_init` will change from 10 to 'auto' in 1.4. Set the value of `n_init` explicitly to suppress the warning\n",
      "  super()._check_params_vs_input(X, default_n_init=10)\n",
      "E:\\ANACONDA\\Lib\\site-packages\\sklearn\\cluster\\_kmeans.py:1412: FutureWarning: The default value of `n_init` will change from 10 to 'auto' in 1.4. Set the value of `n_init` explicitly to suppress the warning\n",
      "  super()._check_params_vs_input(X, default_n_init=10)\n",
      "E:\\ANACONDA\\Lib\\site-packages\\sklearn\\cluster\\_kmeans.py:1412: FutureWarning: The default value of `n_init` will change from 10 to 'auto' in 1.4. Set the value of `n_init` explicitly to suppress the warning\n",
      "  super()._check_params_vs_input(X, default_n_init=10)\n",
      "E:\\ANACONDA\\Lib\\site-packages\\sklearn\\cluster\\_kmeans.py:1412: FutureWarning: The default value of `n_init` will change from 10 to 'auto' in 1.4. Set the value of `n_init` explicitly to suppress the warning\n",
      "  super()._check_params_vs_input(X, default_n_init=10)\n",
      "E:\\ANACONDA\\Lib\\site-packages\\sklearn\\cluster\\_kmeans.py:1412: FutureWarning: The default value of `n_init` will change from 10 to 'auto' in 1.4. Set the value of `n_init` explicitly to suppress the warning\n",
      "  super()._check_params_vs_input(X, default_n_init=10)\n",
      "E:\\ANACONDA\\Lib\\site-packages\\sklearn\\cluster\\_kmeans.py:1412: FutureWarning: The default value of `n_init` will change from 10 to 'auto' in 1.4. Set the value of `n_init` explicitly to suppress the warning\n",
      "  super()._check_params_vs_input(X, default_n_init=10)\n",
      "E:\\ANACONDA\\Lib\\site-packages\\sklearn\\cluster\\_kmeans.py:1412: FutureWarning: The default value of `n_init` will change from 10 to 'auto' in 1.4. Set the value of `n_init` explicitly to suppress the warning\n",
      "  super()._check_params_vs_input(X, default_n_init=10)\n",
      "E:\\ANACONDA\\Lib\\site-packages\\sklearn\\cluster\\_kmeans.py:1412: FutureWarning: The default value of `n_init` will change from 10 to 'auto' in 1.4. Set the value of `n_init` explicitly to suppress the warning\n",
      "  super()._check_params_vs_input(X, default_n_init=10)\n",
      "E:\\ANACONDA\\Lib\\site-packages\\sklearn\\cluster\\_kmeans.py:1412: FutureWarning: The default value of `n_init` will change from 10 to 'auto' in 1.4. Set the value of `n_init` explicitly to suppress the warning\n",
      "  super()._check_params_vs_input(X, default_n_init=10)\n",
      "E:\\ANACONDA\\Lib\\site-packages\\sklearn\\cluster\\_kmeans.py:1412: FutureWarning: The default value of `n_init` will change from 10 to 'auto' in 1.4. Set the value of `n_init` explicitly to suppress the warning\n",
      "  super()._check_params_vs_input(X, default_n_init=10)\n"
     ]
    },
    {
     "data": {
      "image/png": "[encoded data removed]",
      "text/plain": [
       "<Figure size 800x550 with 1 Axes>"
      ]
     },
     "metadata": {},
     "output_type": "display_data"
    },
    {
     "data": {
      "text/plain": [
       "<Axes: title={'center': 'Calinski Harabasz Score Elbow for KMeans Clustering'}, xlabel='k', ylabel='calinski harabasz score'>"
      ]
     },
     "execution_count": 26,
     "metadata": {},
     "output_type": "execute_result"
    }
   ],
   "source": [
    "from sklearn.cluster import KMeans\n",
    "from sklearn.datasets import make_blobs\n",
    "\n",
    "from yellowbrick.cluster import KElbowVisualizer\n",
    "\n",
    "# Generate synthetic dataset with 8 random clusters\n",
    "X, y = make_blobs(n_samples=12024, n_features=13, centers=3, random_state=42)\n",
    "\n",
    "# Instantiate the clustering model and visualizer\n",
    "model = KMeans()\n",
    "visualizer = KElbowVisualizer(\n",
    "    model, k=(3,13), metric='calinski_harabasz', timings=False\n",
    ")\n",
    "\n",
    "visualizer.fit(X)        # Fit the data to the visualizer\n",
    "visualizer.show()        # Finalize and render the figure"
   ]
  },
  {
   "cell_type": "markdown",
   "id": "d4e2be50-551c-415b-ba21-55d86e60ba45",
   "metadata": {},
   "source": [
    "### 12. Visualization of the plot shape of the x data "
   ]
  },
  {
   "cell_type": "code",
   "execution_count": 27,
   "id": "56c775d4-19bd-4c95-ac02-8c20f49c0feb",
   "metadata": {
    "tags": []
   },
   "outputs": [
    {
     "data": {
      "text/plain": [
       "[<matplotlib.lines.Line2D at 0x1c41bf703d0>]"
      ]
     },
     "execution_count": 27,
     "metadata": {},
     "output_type": "execute_result"
    },
    {
     "data": {
      "image/png": "[encoded data removed]",
      "text/plain": [
       "<Figure size 800x550 with 1 Axes>"
      ]
     },
     "metadata": {},
     "output_type": "display_data"
    }
   ],
   "source": [
    "#melihat visualisasi data dari x\n",
    "plt.plot(x[:,0],x[:,1],'ro')"
   ]
  },
  {
   "cell_type": "markdown",
   "id": "7d5d5e49-cd8c-4247-9059-7d013c9d4008",
   "metadata": {},
   "source": [
    "### 13. Initializes the KMeans model with the specified number of clusters. In this case, the number of clusters is set to 3 (n_clusters=3)."
   ]
  },
  {
   "cell_type": "code",
   "execution_count": 28,
   "id": "5ac67e0c-985f-4401-bce5-66453ea1c687",
   "metadata": {
    "tags": []
   },
   "outputs": [],
   "source": [
    "#inisialisasi nilai cluster 3\n",
    "kmeans = KMeans(n_clusters=3)"
   ]
  },
  {
   "cell_type": "markdown",
   "id": "e0e21762-5c5c-40ea-b3ba-bb89d7790a41",
   "metadata": {
    "tags": []
   },
   "source": [
    "### 14. Train the KMeans model on data x with the fit method. After the KMeans model is trained, cluster centers will be generated and each data point will be assigned a cluster label based on the closest cluster."
   ]
  },
  {
   "cell_type": "code",
   "execution_count": 29,
   "id": "db4f33ba-c132-4c30-8034-b9858e42d5a6",
   "metadata": {
    "tags": []
   },
   "outputs": [
    {
     "name": "stderr",
     "output_type": "stream",
     "text": [
      "E:\\ANACONDA\\Lib\\site-packages\\sklearn\\cluster\\_kmeans.py:1412: FutureWarning: The default value of `n_init` will change from 10 to 'auto' in 1.4. Set the value of `n_init` explicitly to suppress the warning\n",
      "  super()._check_params_vs_input(X, default_n_init=10)\n"
     ]
    },
    {
     "data": {
      "text/html": [
       "<style>#sk-container-id-1 {color: black;}#sk-container-id-1 pre{padding: 0;}#sk-container-id-1 div.sk-toggleable {background-color: white;}#sk-container-id-1 label.sk-toggleable__label {cursor: pointer;display: block;width: 100%;margin-bottom: 0;padding: 0.3em;box-sizing: border-box;text-align: center;}#sk-container-id-1 label.sk-toggleable__label-arrow:before {content: \"▸\";float: left;margin-right: 0.25em;color: #696969;}#sk-container-id-1 label.sk-toggleable__label-arrow:hover:before {color: black;}#sk-container-id-1 div.sk-estimator:hover label.sk-toggleable__label-arrow:before {color: black;}#sk-container-id-1 div.sk-toggleable__content {max-height: 0;max-width: 0;overflow: hidden;text-align: left;background-color: #f0f8ff;}#sk-container-id-1 div.sk-toggleable__content pre {margin: 0.2em;color: black;border-radius: 0.25em;background-color: #f0f8ff;}#sk-container-id-1 input.sk-toggleable__control:checked~div.sk-toggleable__content {max-height: 200px;max-width: 100%;overflow: auto;}#sk-container-id-1 input.sk-toggleable__control:checked~label.sk-toggleable__label-arrow:before {content: \"▾\";}#sk-container-id-1 div.sk-estimator input.sk-toggleable__control:checked~label.sk-toggleable__label {background-color: #d4ebff;}#sk-container-id-1 div.sk-label input.sk-toggleable__control:checked~label.sk-toggleable__label {background-color: #d4ebff;}#sk-container-id-1 input.sk-hidden--visually {border: 0;clip: rect(1px 1px 1px 1px);clip: rect(1px, 1px, 1px, 1px);height: 1px;margin: -1px;overflow: hidden;padding: 0;position: absolute;width: 1px;}#sk-container-id-1 div.sk-estimator {font-family: monospace;background-color: #f0f8ff;border: 1px dotted black;border-radius: 0.25em;box-sizing: border-box;margin-bottom: 0.5em;}#sk-container-id-1 div.sk-estimator:hover {background-color: #d4ebff;}#sk-container-id-1 div.sk-parallel-item::after {content: \"\";width: 100%;border-bottom: 1px solid gray;flex-grow: 1;}#sk-container-id-1 div.sk-label:hover label.sk-toggleable__label {background-color: #d4ebff;}#sk-container-id-1 div.sk-serial::before {content: \"\";position: absolute;border-left: 1px solid gray;box-sizing: border-box;top: 0;bottom: 0;left: 50%;z-index: 0;}#sk-container-id-1 div.sk-serial {display: flex;flex-direction: column;align-items: center;background-color: white;padding-right: 0.2em;padding-left: 0.2em;position: relative;}#sk-container-id-1 div.sk-item {position: relative;z-index: 1;}#sk-container-id-1 div.sk-parallel {display: flex;align-items: stretch;justify-content: center;background-color: white;position: relative;}#sk-container-id-1 div.sk-item::before, #sk-container-id-1 div.sk-parallel-item::before {content: \"\";position: absolute;border-left: 1px solid gray;box-sizing: border-box;top: 0;bottom: 0;left: 50%;z-index: -1;}#sk-container-id-1 div.sk-parallel-item {display: flex;flex-direction: column;z-index: 1;position: relative;background-color: white;}#sk-container-id-1 div.sk-parallel-item:first-child::after {align-self: flex-end;width: 50%;}#sk-container-id-1 div.sk-parallel-item:last-child::after {align-self: flex-start;width: 50%;}#sk-container-id-1 div.sk-parallel-item:only-child::after {width: 0;}#sk-container-id-1 div.sk-dashed-wrapped {border: 1px dashed gray;margin: 0 0.4em 0.5em 0.4em;box-sizing: border-box;padding-bottom: 0.4em;background-color: white;}#sk-container-id-1 div.sk-label label {font-family: monospace;font-weight: bold;display: inline-block;line-height: 1.2em;}#sk-container-id-1 div.sk-label-container {text-align: center;}#sk-container-id-1 div.sk-container {/* jupyter's `normalize.less` sets `[hidden] { display: none; }` but bootstrap.min.css set `[hidden] { display: none !important; }` so we also need the `!important` here to be able to override the default hidden behavior on the sphinx rendered scikit-learn.org. See: https://github.com/scikit-learn/scikit-learn/issues/21755 */display: inline-block !important;position: relative;}#sk-container-id-1 div.sk-text-repr-fallback {display: none;}</style><div id=\"sk-container-id-1\" class=\"sk-top-container\"><div class=\"sk-text-repr-fallback\"><pre>KMeans(n_clusters=3)</pre><b>In a Jupyter environment, please rerun this cell to show the HTML representation or trust the notebook. <br />On GitHub, the HTML representation is unable to render, please try loading this page with nbviewer.org.</b></div><div class=\"sk-container\" hidden><div class=\"sk-item\"><div class=\"sk-estimator sk-toggleable\"><input class=\"sk-toggleable__control sk-hidden--visually\" id=\"sk-estimator-id-1\" type=\"checkbox\" checked><label for=\"sk-estimator-id-1\" class=\"sk-toggleable__label sk-toggleable__label-arrow\">KMeans</label><div class=\"sk-toggleable__content\"><pre>KMeans(n_clusters=3)</pre></div></div></div></div></div>"
      ],
      "text/plain": [
       "KMeans(n_clusters=3)"
      ]
     },
     "execution_count": 29,
     "metadata": {},
     "output_type": "execute_result"
    }
   ],
   "source": [
    "#melakukan clustering dengan data x\n",
    "kmeans.fit(x)"
   ]
  },
  {
   "cell_type": "markdown",
   "id": "46c39b44-2244-430a-a40e-ac49d641fdb2",
   "metadata": {},
   "source": [
    "### 15. Get cluster centers after the KMeans model is trained. After running kmeans.fit(x), the KMeans model will determine the cluster centers based on the cluster patterns found in the x data. These cluster centers are stored in the cluster variable using the cluster_centers_ attribute of the KMeans model object."
   ]
  },
  {
   "cell_type": "code",
   "execution_count": 30,
   "id": "ef4fcb9d-7f03-438a-a636-3bda17325bb2",
   "metadata": {
    "tags": []
   },
   "outputs": [],
   "source": [
    "cluster = kmeans.cluster_centers_"
   ]
  },
  {
   "cell_type": "code",
   "execution_count": 31,
   "id": "73ff1a6a-e62d-4adf-a151-491607a83345",
   "metadata": {
    "tags": []
   },
   "outputs": [
    {
     "name": "stdout",
     "output_type": "stream",
     "text": [
      "[[  3.72839445 141.72447968]\n",
      " [  3.34957455  19.60777958]\n",
      " [  4.37111111 459.45925926]]\n"
     ]
    }
   ],
   "source": [
    "#melihat pusat cluster 1-3\n",
    "print(cluster)"
   ]
  },
  {
   "cell_type": "markdown",
   "id": "ae260cab-51b9-465e-9c08-941320ee34b1",
   "metadata": {},
   "source": [
    "### 16. Used to predict cluster labels for each data point in a DataFrame (df) based on the KMeans clustering model. "
   ]
  },
  {
   "cell_type": "code",
   "execution_count": 32,
   "id": "ac27b8bd-d0cc-4c2c-9f0b-540cd450ca4a",
   "metadata": {
    "tags": []
   },
   "outputs": [
    {
     "name": "stderr",
     "output_type": "stream",
     "text": [
      "E:\\ANACONDA\\Lib\\site-packages\\sklearn\\cluster\\_kmeans.py:1412: FutureWarning: The default value of `n_init` will change from 10 to 'auto' in 1.4. Set the value of `n_init` explicitly to suppress the warning\n",
      "  super()._check_params_vs_input(X, default_n_init=10)\n"
     ]
    },
    {
     "data": {
      "text/plain": [
       "array([0, 0, 0, ..., 0, 0, 0])"
      ]
     },
     "execution_count": 32,
     "metadata": {},
     "output_type": "execute_result"
    }
   ],
   "source": [
    "y_predicted = kmeans.fit_predict(df[['Magnitude', 'Depth']])\n",
    "y_predicted"
   ]
  },
  {
   "cell_type": "markdown",
   "id": "86c7fa7d-1513-43eb-a7aa-0924312565d9",
   "metadata": {},
   "source": [
    "### 17. The provided code is used for visualizing the results of KMeans clustering."
   ]
  },
  {
   "cell_type": "code",
   "execution_count": 33,
   "id": "646773ea-8046-48d5-9006-f61f0e23d2af",
   "metadata": {
    "tags": []
   },
   "outputs": [
    {
     "data": {
      "image/png": "[encoded data removed]",
      "text/plain": [
       "<Figure size 800x550 with 1 Axes>"
      ]
     },
     "metadata": {},
     "output_type": "display_data"
    }
   ],
   "source": [
    "plt.scatter(x[:,0],x[:,1],c=kmeans.labels_,marker='o')\n",
    "centroids = kmeans.cluster_centers_\n",
    "labels = kmeans.labels_    \n",
    "plt.scatter(x[labels ==0,0], x[labels == 0,1], s=50, color='green',label='cluster 0')\n",
    "plt.scatter(x[labels ==1,0], x[labels == 1,1], s=50, color='blue',label='cluster 1')\n",
    "plt.scatter(x[labels ==2,0], x[labels == 2,1], s=50, color='yellow',label='cluster 2')\n",
    "plt.legend()\n",
    "plt.xlabel('Magnitude')\n",
    "plt.ylabel('Depth')\n",
    "plt.show()"
   ]
  },
  {
   "cell_type": "markdown",
   "id": "89aafcfc-566e-423a-ac6b-5b3211189595",
   "metadata": {},
   "source": [
    "### 18. Used to add a new column, named 'Cluster', to a DataFrame (tabel) that contains the cluster labels assigned by a clustering algorithm (likely KMeans)."
   ]
  },
  {
   "cell_type": "code",
   "execution_count": 34,
   "id": "57fbad53-cae7-48dc-af6d-aaea5bfe09f2",
   "metadata": {
    "tags": []
   },
   "outputs": [
    {
     "data": {
      "text/plain": [
       "Cluster\n",
       "0    9872\n",
       "2    2018\n",
       "1     135\n",
       "Name: count, dtype: int64"
      ]
     },
     "execution_count": 34,
     "metadata": {},
     "output_type": "execute_result"
    }
   ],
   "source": [
    "tabel['Cluster'] = labels\n",
    "tabel['Cluster'].value_counts()"
   ]
  },
  {
   "cell_type": "code",
   "execution_count": 35,
   "id": "a69b957e-ae25-466c-91ae-ae20fb17d1a4",
   "metadata": {
    "collapsed": true,
    "jupyter": {
     "outputs_hidden": true
    },
    "tags": []
   },
   "outputs": [
    {
     "data": {
      "text/html": [
       "<div>\n",
       "<style scoped>\n",
       "    .dataframe tbody tr th:only-of-type {\n",
       "        vertical-align: middle;\n",
       "    }\n",
       "\n",
       "    .dataframe tbody tr th {\n",
       "        vertical-align: top;\n",
       "    }\n",
       "\n",
       "    .dataframe thead th {\n",
       "        text-align: right;\n",
       "    }\n",
       "</style>\n",
       "<table border=\"1\" class=\"dataframe\">\n",
       "  <thead>\n",
       "    <tr style=\"text-align: right;\">\n",
       "      <th></th>\n",
       "      <th>Region</th>\n",
       "      <th>Magnitude</th>\n",
       "      <th>Depth</th>\n",
       "      <th>Cluster</th>\n",
       "    </tr>\n",
       "  </thead>\n",
       "  <tbody>\n",
       "    <tr>\n",
       "      <th>0</th>\n",
       "      <td>Flores Region - Indonesia</td>\n",
       "      <td>2.9</td>\n",
       "      <td>10</td>\n",
       "      <td>0</td>\n",
       "    </tr>\n",
       "    <tr>\n",
       "      <th>1</th>\n",
       "      <td>Timor Region</td>\n",
       "      <td>3.4</td>\n",
       "      <td>76</td>\n",
       "      <td>0</td>\n",
       "    </tr>\n",
       "    <tr>\n",
       "      <th>2</th>\n",
       "      <td>Irian Jaya - Indonesia</td>\n",
       "      <td>3.8</td>\n",
       "      <td>12</td>\n",
       "      <td>0</td>\n",
       "    </tr>\n",
       "    <tr>\n",
       "      <th>3</th>\n",
       "      <td>Flores Region - Indonesia</td>\n",
       "      <td>3.5</td>\n",
       "      <td>10</td>\n",
       "      <td>0</td>\n",
       "    </tr>\n",
       "    <tr>\n",
       "      <th>4</th>\n",
       "      <td>Flores Region - Indonesia</td>\n",
       "      <td>3.0</td>\n",
       "      <td>10</td>\n",
       "      <td>0</td>\n",
       "    </tr>\n",
       "    <tr>\n",
       "      <th>...</th>\n",
       "      <td>...</td>\n",
       "      <td>...</td>\n",
       "      <td>...</td>\n",
       "      <td>...</td>\n",
       "    </tr>\n",
       "    <tr>\n",
       "      <th>12020</th>\n",
       "      <td>Talaud Islands - Indonesia</td>\n",
       "      <td>4.0</td>\n",
       "      <td>10</td>\n",
       "      <td>0</td>\n",
       "    </tr>\n",
       "    <tr>\n",
       "      <th>12021</th>\n",
       "      <td>Northern Molucca Sea</td>\n",
       "      <td>3.9</td>\n",
       "      <td>10</td>\n",
       "      <td>0</td>\n",
       "    </tr>\n",
       "    <tr>\n",
       "      <th>12022</th>\n",
       "      <td>Flores Sea</td>\n",
       "      <td>3.8</td>\n",
       "      <td>10</td>\n",
       "      <td>0</td>\n",
       "    </tr>\n",
       "    <tr>\n",
       "      <th>12023</th>\n",
       "      <td>Northern Molucca Sea</td>\n",
       "      <td>4.1</td>\n",
       "      <td>10</td>\n",
       "      <td>0</td>\n",
       "    </tr>\n",
       "    <tr>\n",
       "      <th>12024</th>\n",
       "      <td>Sumbawa Region - Indonesia</td>\n",
       "      <td>2.4</td>\n",
       "      <td>10</td>\n",
       "      <td>0</td>\n",
       "    </tr>\n",
       "  </tbody>\n",
       "</table>\n",
       "<p>12025 rows × 4 columns</p>\n",
       "</div>"
      ],
      "text/plain": [
       "                           Region  Magnitude  Depth  Cluster\n",
       "0       Flores Region - Indonesia        2.9     10        0\n",
       "1                    Timor Region        3.4     76        0\n",
       "2          Irian Jaya - Indonesia        3.8     12        0\n",
       "3       Flores Region - Indonesia        3.5     10        0\n",
       "4       Flores Region - Indonesia        3.0     10        0\n",
       "...                           ...        ...    ...      ...\n",
       "12020  Talaud Islands - Indonesia        4.0     10        0\n",
       "12021        Northern Molucca Sea        3.9     10        0\n",
       "12022                  Flores Sea        3.8     10        0\n",
       "12023        Northern Molucca Sea        4.1     10        0\n",
       "12024  Sumbawa Region - Indonesia        2.4     10        0\n",
       "\n",
       "[12025 rows x 4 columns]"
      ]
     },
     "execution_count": 35,
     "metadata": {},
     "output_type": "execute_result"
    }
   ],
   "source": [
    "tabel"
   ]
  },
  {
   "cell_type": "markdown",
   "id": "64ec19cc-170f-4a19-a1cb-0300a1af792b",
   "metadata": {},
   "source": [
    "### 19. Save model to h5 file"
   ]
  },
  {
   "cell_type": "code",
   "execution_count": 41,
   "id": "67a71cb5-dee8-4908-b3db-e030642542c1",
   "metadata": {
    "tags": []
   },
   "outputs": [],
   "source": [
    "import joblib\n",
    "import tensorflow as tf\n",
    "from sklearn.cluster import KMeans\n",
    "from sklearn.datasets import make_blobs\n",
    "from keras.models import load_model\n",
    "\n",
    "# Generate synthetic dataset with 8 random clusters\n",
    "X, y = make_blobs(n_samples=12024, n_features=13, centers=3, random_state=42)\n",
    "\n",
    "# Instantiate the clustering model\n",
    "# Explicitly set n_init\n",
    "kmeans = KMeans(n_clusters=3, n_init=10)\n",
    "\n",
    "\n",
    "# Fit the data to the model\n",
    "kmeans.fit(X)\n",
    "\n",
    "# Save the model using joblib\n",
    "joblib.dump(kmeans, 'kmeans_model.h5')\n",
    "\n",
    "# Load the model\n",
    "loaded_model = joblib.load('kmeans_model.h5')\n",
    "\n",
    "# Now, you can use the loaded_model for predictions"
   ]
  },
  {
   "cell_type": "markdown",
   "id": "15d02724-9138-4794-8498-ff0e76cac03f",
   "metadata": {},
   "source": [
    "### 20. The provided code is used to calculate the silhouette score for a clustering model (KMeans) applied to the data."
   ]
  },
  {
   "cell_type": "code",
   "execution_count": 48,
   "id": "04c111f7-15cb-402e-824e-6803ecda9467",
   "metadata": {
    "tags": []
   },
   "outputs": [
    {
     "name": "stdout",
     "output_type": "stream",
     "text": [
      "Silhouette Score: 0.8055821611201445\n"
     ]
    }
   ],
   "source": [
    "from sklearn.metrics import silhouette_score\n",
    "\n",
    "# Fit the KMeans model on the data\n",
    "kmeans.fit(x)\n",
    "\n",
    "# Get cluster labels\n",
    "labels = kmeans.labels_\n",
    "\n",
    "# Calculate silhouette score\n",
    "silhouette_avg = silhouette_score(x, labels)\n",
    "print(f\"Silhouette Score: {silhouette_avg}\")\n"
   ]
  },
  {
   "cell_type": "code",
   "execution_count": 52,
   "id": "65d9e35f-cdbf-4182-b764-14455d060a5d",
   "metadata": {
    "tags": []
   },
   "outputs": [
    {
     "data": {
      "image/png": "[encoded data removed]",
      "text/plain": [
       "<Figure size 800x550 with 1 Axes>"
      ]
     },
     "metadata": {},
     "output_type": "display_data"
    }
   ],
   "source": [
    "from yellowbrick.cluster import KElbowVisualizer\n",
    "import matplotlib.pyplot as plt\n",
    "import numpy as np\n",
    "\n",
    "# Use the elbow method to find the optimal number of clusters\n",
    "visualizer = KElbowVisualizer(\n",
    "    kmeans, k=(3, 13), metric='silhouette', timings=False\n",
    ")\n",
    "visualizer.fit(x)\n",
    "\n",
    "# Get silhouette scores\n",
    "silhouette_coefficients = visualizer.k_values_\n",
    "\n",
    "# Plot the silhouette scores\n",
    "plt.style.use(\"fivethirtyeight\")\n",
    "plt.plot(silhouette_coefficients, marker='o')\n",
    "plt.xlabel(\"Number of Clusters\")\n",
    "plt.ylabel(\"Silhouette Coefficient\")\n",
    "plt.show()\n"
   ]
  },
  {
   "cell_type": "code",
   "execution_count": null,
   "id": "60b2fc27-220a-40a7-a102-f67006b448d2",
   "metadata": {},
   "outputs": [],
   "source": []
  }
 ],
 "metadata": {
  "kernelspec": {
   "display_name": "Python 3 (ipykernel)",
   "language": "python",
   "name": "python3"
  },
  "language_info": {
   "codemirror_mode": {
    "name": "ipython",
    "version": 3
   },
   "file_extension": ".py",
   "mimetype": "text/x-python",
   "name": "python",
   "nbconvert_exporter": "python",
   "pygments_lexer": "ipython3",
   "version": "3.11.5"
  }
 },
 "nbformat": 4,
 "nbformat_minor": 5
}
