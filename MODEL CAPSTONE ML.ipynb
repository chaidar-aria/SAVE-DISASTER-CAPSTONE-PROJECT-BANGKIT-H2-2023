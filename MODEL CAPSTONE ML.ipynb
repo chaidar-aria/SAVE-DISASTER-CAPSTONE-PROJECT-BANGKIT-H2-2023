{
 "cells": [
  {
   "cell_type": "code",
   "execution_count": null,
   "id": "762c90db-99b9-4376-a115-29679c45789d",
   "metadata": {},
   "outputs": [],
   "source": []
  },
  {
   "cell_type": "code",
   "execution_count": 1,
   "id": "ac96e31f-13d5-4c3a-a433-226f638e28e1",
   "metadata": {},
   "outputs": [],
   "source": [
    "import pandas as pd\n",
    "import matplotlib.pyplot as plt\n",
    "\n",
    "%matplotlib inline"
   ]
  },
  {
   "cell_type": "code",
   "execution_count": 2,
   "id": "76e1bee3-4ccc-450f-87cd-b59b70a59ebe",
   "metadata": {},
   "outputs": [],
   "source": [
    "#Read Dataset\n",
    "df = pd.read_csv(\"katalog_gempa.csv\")"
   ]
  },
  {
   "cell_type": "code",
   "execution_count": 3,
   "id": "64cd44f6-9124-4473-a3e1-722843a0697b",
   "metadata": {},
   "outputs": [
    {
     "data": {
      "text/plain": [
       "(92887, 13)"
      ]
     },
     "execution_count": 3,
     "metadata": {},
     "output_type": "execute_result"
    }
   ],
   "source": [
    "# Row & Col\n",
    "df.shape"
   ]
  },
  {
   "cell_type": "code",
   "execution_count": 4,
   "id": "4a37636a-2bab-438d-a9b9-1b9201b64810",
   "metadata": {
    "tags": []
   },
   "outputs": [
    {
     "data": {
      "text/html": [
       "<div>\n",
       "<style scoped>\n",
       "    .dataframe tbody tr th:only-of-type {\n",
       "        vertical-align: middle;\n",
       "    }\n",
       "\n",
       "    .dataframe tbody tr th {\n",
       "        vertical-align: top;\n",
       "    }\n",
       "\n",
       "    .dataframe thead th {\n",
       "        text-align: right;\n",
       "    }\n",
       "</style>\n",
       "<table border=\"1\" class=\"dataframe\">\n",
       "  <thead>\n",
       "    <tr style=\"text-align: right;\">\n",
       "      <th></th>\n",
       "      <th>tgl</th>\n",
       "      <th>ot</th>\n",
       "      <th>lat</th>\n",
       "      <th>lon</th>\n",
       "      <th>depth</th>\n",
       "      <th>mag</th>\n",
       "      <th>remark</th>\n",
       "      <th>strike1</th>\n",
       "      <th>dip1</th>\n",
       "      <th>rake1</th>\n",
       "      <th>strike2</th>\n",
       "      <th>dip2</th>\n",
       "      <th>rake2</th>\n",
       "    </tr>\n",
       "  </thead>\n",
       "  <tbody>\n",
       "    <tr>\n",
       "      <th>0</th>\n",
       "      <td>2008/11/01</td>\n",
       "      <td>21:02:43.058</td>\n",
       "      <td>-9.18</td>\n",
       "      <td>119.06</td>\n",
       "      <td>10</td>\n",
       "      <td>4.9</td>\n",
       "      <td>Sumba Region - Indonesia</td>\n",
       "      <td>NaN</td>\n",
       "      <td>NaN</td>\n",
       "      <td>NaN</td>\n",
       "      <td>NaN</td>\n",
       "      <td>NaN</td>\n",
       "      <td>NaN</td>\n",
       "    </tr>\n",
       "    <tr>\n",
       "      <th>1</th>\n",
       "      <td>2008/11/01</td>\n",
       "      <td>20:58:50.248</td>\n",
       "      <td>-6.55</td>\n",
       "      <td>129.64</td>\n",
       "      <td>10</td>\n",
       "      <td>4.6</td>\n",
       "      <td>Banda Sea</td>\n",
       "      <td>NaN</td>\n",
       "      <td>NaN</td>\n",
       "      <td>NaN</td>\n",
       "      <td>NaN</td>\n",
       "      <td>NaN</td>\n",
       "      <td>NaN</td>\n",
       "    </tr>\n",
       "    <tr>\n",
       "      <th>2</th>\n",
       "      <td>2008/11/01</td>\n",
       "      <td>17:43:12.941</td>\n",
       "      <td>-7.01</td>\n",
       "      <td>106.63</td>\n",
       "      <td>121</td>\n",
       "      <td>3.7</td>\n",
       "      <td>Java - Indonesia</td>\n",
       "      <td>NaN</td>\n",
       "      <td>NaN</td>\n",
       "      <td>NaN</td>\n",
       "      <td>NaN</td>\n",
       "      <td>NaN</td>\n",
       "      <td>NaN</td>\n",
       "    </tr>\n",
       "    <tr>\n",
       "      <th>3</th>\n",
       "      <td>2008/11/01</td>\n",
       "      <td>16:24:14.755</td>\n",
       "      <td>-3.30</td>\n",
       "      <td>127.85</td>\n",
       "      <td>10</td>\n",
       "      <td>3.2</td>\n",
       "      <td>Seram - Indonesia</td>\n",
       "      <td>NaN</td>\n",
       "      <td>NaN</td>\n",
       "      <td>NaN</td>\n",
       "      <td>NaN</td>\n",
       "      <td>NaN</td>\n",
       "      <td>NaN</td>\n",
       "    </tr>\n",
       "    <tr>\n",
       "      <th>4</th>\n",
       "      <td>2008/11/01</td>\n",
       "      <td>16:20:37.327</td>\n",
       "      <td>-6.41</td>\n",
       "      <td>129.54</td>\n",
       "      <td>70</td>\n",
       "      <td>4.3</td>\n",
       "      <td>Banda Sea</td>\n",
       "      <td>NaN</td>\n",
       "      <td>NaN</td>\n",
       "      <td>NaN</td>\n",
       "      <td>NaN</td>\n",
       "      <td>NaN</td>\n",
       "      <td>NaN</td>\n",
       "    </tr>\n",
       "  </tbody>\n",
       "</table>\n",
       "</div>"
      ],
      "text/plain": [
       "          tgl            ot   lat     lon  depth  mag  \\\n",
       "0  2008/11/01  21:02:43.058 -9.18  119.06     10  4.9   \n",
       "1  2008/11/01  20:58:50.248 -6.55  129.64     10  4.6   \n",
       "2  2008/11/01  17:43:12.941 -7.01  106.63    121  3.7   \n",
       "3  2008/11/01  16:24:14.755 -3.30  127.85     10  3.2   \n",
       "4  2008/11/01  16:20:37.327 -6.41  129.54     70  4.3   \n",
       "\n",
       "                     remark  strike1  dip1  rake1  strike2  dip2  rake2  \n",
       "0  Sumba Region - Indonesia      NaN   NaN    NaN      NaN   NaN    NaN  \n",
       "1                 Banda Sea      NaN   NaN    NaN      NaN   NaN    NaN  \n",
       "2          Java - Indonesia      NaN   NaN    NaN      NaN   NaN    NaN  \n",
       "3         Seram - Indonesia      NaN   NaN    NaN      NaN   NaN    NaN  \n",
       "4                 Banda Sea      NaN   NaN    NaN      NaN   NaN    NaN  "
      ]
     },
     "execution_count": 4,
     "metadata": {},
     "output_type": "execute_result"
    }
   ],
   "source": [
    "#Show Ascending Data\n",
    "df.head(5)"
   ]
  },
  {
   "cell_type": "code",
   "execution_count": 5,
   "id": "40088cc1-4d3d-4074-a193-c612d0bc4900",
   "metadata": {
    "tags": []
   },
   "outputs": [
    {
     "data": {
      "text/html": [
       "<div>\n",
       "<style scoped>\n",
       "    .dataframe tbody tr th:only-of-type {\n",
       "        vertical-align: middle;\n",
       "    }\n",
       "\n",
       "    .dataframe tbody tr th {\n",
       "        vertical-align: top;\n",
       "    }\n",
       "\n",
       "    .dataframe thead th {\n",
       "        text-align: right;\n",
       "    }\n",
       "</style>\n",
       "<table border=\"1\" class=\"dataframe\">\n",
       "  <thead>\n",
       "    <tr style=\"text-align: right;\">\n",
       "      <th></th>\n",
       "      <th>tgl</th>\n",
       "      <th>ot</th>\n",
       "      <th>lat</th>\n",
       "      <th>lon</th>\n",
       "      <th>depth</th>\n",
       "      <th>mag</th>\n",
       "      <th>remark</th>\n",
       "      <th>strike1</th>\n",
       "      <th>dip1</th>\n",
       "      <th>rake1</th>\n",
       "      <th>strike2</th>\n",
       "      <th>dip2</th>\n",
       "      <th>rake2</th>\n",
       "    </tr>\n",
       "  </thead>\n",
       "  <tbody>\n",
       "    <tr>\n",
       "      <th>92882</th>\n",
       "      <td>2023/01/26</td>\n",
       "      <td>02:25:09.288</td>\n",
       "      <td>3.24</td>\n",
       "      <td>127.18</td>\n",
       "      <td>10</td>\n",
       "      <td>4.0</td>\n",
       "      <td>Talaud Islands - Indonesia</td>\n",
       "      <td>NaN</td>\n",
       "      <td>NaN</td>\n",
       "      <td>NaN</td>\n",
       "      <td>NaN</td>\n",
       "      <td>NaN</td>\n",
       "      <td>NaN</td>\n",
       "    </tr>\n",
       "    <tr>\n",
       "      <th>92883</th>\n",
       "      <td>2023/01/26</td>\n",
       "      <td>02:15:03.893</td>\n",
       "      <td>2.70</td>\n",
       "      <td>127.10</td>\n",
       "      <td>10</td>\n",
       "      <td>3.9</td>\n",
       "      <td>Northern Molucca Sea</td>\n",
       "      <td>NaN</td>\n",
       "      <td>NaN</td>\n",
       "      <td>NaN</td>\n",
       "      <td>NaN</td>\n",
       "      <td>NaN</td>\n",
       "      <td>NaN</td>\n",
       "    </tr>\n",
       "    <tr>\n",
       "      <th>92884</th>\n",
       "      <td>2023/01/26</td>\n",
       "      <td>01:57:08.885</td>\n",
       "      <td>-7.83</td>\n",
       "      <td>121.07</td>\n",
       "      <td>10</td>\n",
       "      <td>3.8</td>\n",
       "      <td>Flores Sea</td>\n",
       "      <td>NaN</td>\n",
       "      <td>NaN</td>\n",
       "      <td>NaN</td>\n",
       "      <td>NaN</td>\n",
       "      <td>NaN</td>\n",
       "      <td>NaN</td>\n",
       "    </tr>\n",
       "    <tr>\n",
       "      <th>92885</th>\n",
       "      <td>2023/01/26</td>\n",
       "      <td>01:46:21.009</td>\n",
       "      <td>3.00</td>\n",
       "      <td>127.16</td>\n",
       "      <td>10</td>\n",
       "      <td>4.1</td>\n",
       "      <td>Northern Molucca Sea</td>\n",
       "      <td>NaN</td>\n",
       "      <td>NaN</td>\n",
       "      <td>NaN</td>\n",
       "      <td>NaN</td>\n",
       "      <td>NaN</td>\n",
       "      <td>NaN</td>\n",
       "    </tr>\n",
       "    <tr>\n",
       "      <th>92886</th>\n",
       "      <td>2023/01/26</td>\n",
       "      <td>00:00:35.181</td>\n",
       "      <td>-8.87</td>\n",
       "      <td>118.95</td>\n",
       "      <td>10</td>\n",
       "      <td>2.4</td>\n",
       "      <td>Sumbawa Region - Indonesia</td>\n",
       "      <td>NaN</td>\n",
       "      <td>NaN</td>\n",
       "      <td>NaN</td>\n",
       "      <td>NaN</td>\n",
       "      <td>NaN</td>\n",
       "      <td>NaN</td>\n",
       "    </tr>\n",
       "  </tbody>\n",
       "</table>\n",
       "</div>"
      ],
      "text/plain": [
       "              tgl            ot   lat     lon  depth  mag  \\\n",
       "92882  2023/01/26  02:25:09.288  3.24  127.18     10  4.0   \n",
       "92883  2023/01/26  02:15:03.893  2.70  127.10     10  3.9   \n",
       "92884  2023/01/26  01:57:08.885 -7.83  121.07     10  3.8   \n",
       "92885  2023/01/26  01:46:21.009  3.00  127.16     10  4.1   \n",
       "92886  2023/01/26  00:00:35.181 -8.87  118.95     10  2.4   \n",
       "\n",
       "                           remark  strike1  dip1  rake1  strike2  dip2  rake2  \n",
       "92882  Talaud Islands - Indonesia      NaN   NaN    NaN      NaN   NaN    NaN  \n",
       "92883        Northern Molucca Sea      NaN   NaN    NaN      NaN   NaN    NaN  \n",
       "92884                  Flores Sea      NaN   NaN    NaN      NaN   NaN    NaN  \n",
       "92885        Northern Molucca Sea      NaN   NaN    NaN      NaN   NaN    NaN  \n",
       "92886  Sumbawa Region - Indonesia      NaN   NaN    NaN      NaN   NaN    NaN  "
      ]
     },
     "execution_count": 5,
     "metadata": {},
     "output_type": "execute_result"
    }
   ],
   "source": [
    "#Show Descinding Data\n",
    "df.tail(5)"
   ]
  },
  {
   "cell_type": "code",
   "execution_count": 6,
   "id": "ad77a418-77bf-4eb9-a198-e32d30f620da",
   "metadata": {},
   "outputs": [
    {
     "data": {
      "text/plain": [
       "True"
      ]
     },
     "execution_count": 6,
     "metadata": {},
     "output_type": "execute_result"
    }
   ],
   "source": [
    "#Cek Data Null\n",
    "df.isnull().values.any()"
   ]
  },
  {
   "cell_type": "code",
   "execution_count": 7,
   "id": "d0442e35-912d-4769-882a-6a43bd13b07d",
   "metadata": {
    "tags": []
   },
   "outputs": [
    {
     "data": {
      "text/html": [
       "<div>\n",
       "<style scoped>\n",
       "    .dataframe tbody tr th:only-of-type {\n",
       "        vertical-align: middle;\n",
       "    }\n",
       "\n",
       "    .dataframe tbody tr th {\n",
       "        vertical-align: top;\n",
       "    }\n",
       "\n",
       "    .dataframe thead th {\n",
       "        text-align: right;\n",
       "    }\n",
       "</style>\n",
       "<table border=\"1\" class=\"dataframe\">\n",
       "  <thead>\n",
       "    <tr style=\"text-align: right;\">\n",
       "      <th></th>\n",
       "      <th>lat</th>\n",
       "      <th>lon</th>\n",
       "      <th>depth</th>\n",
       "      <th>mag</th>\n",
       "    </tr>\n",
       "  </thead>\n",
       "  <tbody>\n",
       "    <tr>\n",
       "      <th>0</th>\n",
       "      <td>-9.18</td>\n",
       "      <td>119.06</td>\n",
       "      <td>10</td>\n",
       "      <td>4.9</td>\n",
       "    </tr>\n",
       "    <tr>\n",
       "      <th>1</th>\n",
       "      <td>-6.55</td>\n",
       "      <td>129.64</td>\n",
       "      <td>10</td>\n",
       "      <td>4.6</td>\n",
       "    </tr>\n",
       "    <tr>\n",
       "      <th>2</th>\n",
       "      <td>-7.01</td>\n",
       "      <td>106.63</td>\n",
       "      <td>121</td>\n",
       "      <td>3.7</td>\n",
       "    </tr>\n",
       "    <tr>\n",
       "      <th>3</th>\n",
       "      <td>-3.30</td>\n",
       "      <td>127.85</td>\n",
       "      <td>10</td>\n",
       "      <td>3.2</td>\n",
       "    </tr>\n",
       "    <tr>\n",
       "      <th>4</th>\n",
       "      <td>-6.41</td>\n",
       "      <td>129.54</td>\n",
       "      <td>70</td>\n",
       "      <td>4.3</td>\n",
       "    </tr>\n",
       "    <tr>\n",
       "      <th>...</th>\n",
       "      <td>...</td>\n",
       "      <td>...</td>\n",
       "      <td>...</td>\n",
       "      <td>...</td>\n",
       "    </tr>\n",
       "    <tr>\n",
       "      <th>92882</th>\n",
       "      <td>3.24</td>\n",
       "      <td>127.18</td>\n",
       "      <td>10</td>\n",
       "      <td>4.0</td>\n",
       "    </tr>\n",
       "    <tr>\n",
       "      <th>92883</th>\n",
       "      <td>2.70</td>\n",
       "      <td>127.10</td>\n",
       "      <td>10</td>\n",
       "      <td>3.9</td>\n",
       "    </tr>\n",
       "    <tr>\n",
       "      <th>92884</th>\n",
       "      <td>-7.83</td>\n",
       "      <td>121.07</td>\n",
       "      <td>10</td>\n",
       "      <td>3.8</td>\n",
       "    </tr>\n",
       "    <tr>\n",
       "      <th>92885</th>\n",
       "      <td>3.00</td>\n",
       "      <td>127.16</td>\n",
       "      <td>10</td>\n",
       "      <td>4.1</td>\n",
       "    </tr>\n",
       "    <tr>\n",
       "      <th>92886</th>\n",
       "      <td>-8.87</td>\n",
       "      <td>118.95</td>\n",
       "      <td>10</td>\n",
       "      <td>2.4</td>\n",
       "    </tr>\n",
       "  </tbody>\n",
       "</table>\n",
       "<p>92887 rows × 4 columns</p>\n",
       "</div>"
      ],
      "text/plain": [
       "        lat     lon  depth  mag\n",
       "0     -9.18  119.06     10  4.9\n",
       "1     -6.55  129.64     10  4.6\n",
       "2     -7.01  106.63    121  3.7\n",
       "3     -3.30  127.85     10  3.2\n",
       "4     -6.41  129.54     70  4.3\n",
       "...     ...     ...    ...  ...\n",
       "92882  3.24  127.18     10  4.0\n",
       "92883  2.70  127.10     10  3.9\n",
       "92884 -7.83  121.07     10  3.8\n",
       "92885  3.00  127.16     10  4.1\n",
       "92886 -8.87  118.95     10  2.4\n",
       "\n",
       "[92887 rows x 4 columns]"
      ]
     },
     "execution_count": 7,
     "metadata": {},
     "output_type": "execute_result"
    }
   ],
   "source": [
    "df.drop(['tgl','ot','remark','strike1','dip1','rake1','strike2','dip2','rake2'], axis=1, inplace=True)\n",
    "df"
   ]
  },
  {
   "cell_type": "code",
   "execution_count": 8,
   "id": "a89d8aa3-33d5-4509-a0c5-6049324d8e6f",
   "metadata": {},
   "outputs": [
    {
     "data": {
      "text/plain": [
       "['latitude', 'longitude', 'depth', 'magnitude']"
      ]
     },
     "execution_count": 8,
     "metadata": {},
     "output_type": "execute_result"
    }
   ],
   "source": [
    "col_names = ['latitude', 'longitude', 'depth', 'magnitude']\n",
    "\n",
    "\n",
    "df.columns = col_names\n",
    "\n",
    "col_names"
   ]
  },
  {
   "cell_type": "code",
   "execution_count": 9,
   "id": "ebe40e27-1d05-4938-bef3-659806305179",
   "metadata": {
    "tags": []
   },
   "outputs": [
    {
     "data": {
      "text/html": [
       "<div>\n",
       "<style scoped>\n",
       "    .dataframe tbody tr th:only-of-type {\n",
       "        vertical-align: middle;\n",
       "    }\n",
       "\n",
       "    .dataframe tbody tr th {\n",
       "        vertical-align: top;\n",
       "    }\n",
       "\n",
       "    .dataframe thead th {\n",
       "        text-align: right;\n",
       "    }\n",
       "</style>\n",
       "<table border=\"1\" class=\"dataframe\">\n",
       "  <thead>\n",
       "    <tr style=\"text-align: right;\">\n",
       "      <th></th>\n",
       "      <th>latitude</th>\n",
       "      <th>longitude</th>\n",
       "      <th>depth</th>\n",
       "      <th>magnitude</th>\n",
       "      <th>eruption</th>\n",
       "    </tr>\n",
       "  </thead>\n",
       "  <tbody>\n",
       "    <tr>\n",
       "      <th>0</th>\n",
       "      <td>-9.18</td>\n",
       "      <td>119.06</td>\n",
       "      <td>10</td>\n",
       "      <td>4.9</td>\n",
       "      <td>Tidak Meletus</td>\n",
       "    </tr>\n",
       "    <tr>\n",
       "      <th>1</th>\n",
       "      <td>-6.55</td>\n",
       "      <td>129.64</td>\n",
       "      <td>10</td>\n",
       "      <td>4.6</td>\n",
       "      <td>Tidak Meletus</td>\n",
       "    </tr>\n",
       "    <tr>\n",
       "      <th>2</th>\n",
       "      <td>-7.01</td>\n",
       "      <td>106.63</td>\n",
       "      <td>121</td>\n",
       "      <td>3.7</td>\n",
       "      <td>Tidak Meletus</td>\n",
       "    </tr>\n",
       "    <tr>\n",
       "      <th>3</th>\n",
       "      <td>-3.30</td>\n",
       "      <td>127.85</td>\n",
       "      <td>10</td>\n",
       "      <td>3.2</td>\n",
       "      <td>Tidak Meletus</td>\n",
       "    </tr>\n",
       "    <tr>\n",
       "      <th>4</th>\n",
       "      <td>-6.41</td>\n",
       "      <td>129.54</td>\n",
       "      <td>70</td>\n",
       "      <td>4.3</td>\n",
       "      <td>Tidak Meletus</td>\n",
       "    </tr>\n",
       "    <tr>\n",
       "      <th>...</th>\n",
       "      <td>...</td>\n",
       "      <td>...</td>\n",
       "      <td>...</td>\n",
       "      <td>...</td>\n",
       "      <td>...</td>\n",
       "    </tr>\n",
       "    <tr>\n",
       "      <th>92882</th>\n",
       "      <td>3.24</td>\n",
       "      <td>127.18</td>\n",
       "      <td>10</td>\n",
       "      <td>4.0</td>\n",
       "      <td>Tidak Meletus</td>\n",
       "    </tr>\n",
       "    <tr>\n",
       "      <th>92883</th>\n",
       "      <td>2.70</td>\n",
       "      <td>127.10</td>\n",
       "      <td>10</td>\n",
       "      <td>3.9</td>\n",
       "      <td>Tidak Meletus</td>\n",
       "    </tr>\n",
       "    <tr>\n",
       "      <th>92884</th>\n",
       "      <td>-7.83</td>\n",
       "      <td>121.07</td>\n",
       "      <td>10</td>\n",
       "      <td>3.8</td>\n",
       "      <td>Tidak Meletus</td>\n",
       "    </tr>\n",
       "    <tr>\n",
       "      <th>92885</th>\n",
       "      <td>3.00</td>\n",
       "      <td>127.16</td>\n",
       "      <td>10</td>\n",
       "      <td>4.1</td>\n",
       "      <td>Tidak Meletus</td>\n",
       "    </tr>\n",
       "    <tr>\n",
       "      <th>92886</th>\n",
       "      <td>-8.87</td>\n",
       "      <td>118.95</td>\n",
       "      <td>10</td>\n",
       "      <td>2.4</td>\n",
       "      <td>Tidak Meletus</td>\n",
       "    </tr>\n",
       "  </tbody>\n",
       "</table>\n",
       "<p>92887 rows × 5 columns</p>\n",
       "</div>"
      ],
      "text/plain": [
       "       latitude  longitude  depth  magnitude       eruption\n",
       "0         -9.18     119.06     10        4.9  Tidak Meletus\n",
       "1         -6.55     129.64     10        4.6  Tidak Meletus\n",
       "2         -7.01     106.63    121        3.7  Tidak Meletus\n",
       "3         -3.30     127.85     10        3.2  Tidak Meletus\n",
       "4         -6.41     129.54     70        4.3  Tidak Meletus\n",
       "...         ...        ...    ...        ...            ...\n",
       "92882      3.24     127.18     10        4.0  Tidak Meletus\n",
       "92883      2.70     127.10     10        3.9  Tidak Meletus\n",
       "92884     -7.83     121.07     10        3.8  Tidak Meletus\n",
       "92885      3.00     127.16     10        4.1  Tidak Meletus\n",
       "92886     -8.87     118.95     10        2.4  Tidak Meletus\n",
       "\n",
       "[92887 rows x 5 columns]"
      ]
     },
     "execution_count": 9,
     "metadata": {},
     "output_type": "execute_result"
    }
   ],
   "source": [
    "import pandas as pd\n",
    "\n",
    "# Anggaplah kolom magnitude ada dalam DataFrame df dan bernama 'magnitude'\n",
    "# Gantilah 'magnitude' dengan nama kolom yang sesuai dengan dataset Anda\n",
    "# misalnya, jika nama kolomnya adalah 'magnitude', maka gantilah 'df['magnitude']' dengan 'df['magnitude']'\n",
    "df['eruption'] = df['magnitude'].apply(lambda x: 'Meletus' if x >= 7.0 else 'Tidak Meletus')\n",
    "\n",
    "# Menampilkan DataFrame setelah penambahan kolom baru\n",
    "df"
   ]
  },
  {
   "cell_type": "code",
   "execution_count": 10,
   "id": "42108fb0-842e-4a9f-a24e-a051646a2f79",
   "metadata": {
    "tags": []
   },
   "outputs": [
    {
     "data": {
      "text/html": [
       "<div>\n",
       "<style scoped>\n",
       "    .dataframe tbody tr th:only-of-type {\n",
       "        vertical-align: middle;\n",
       "    }\n",
       "\n",
       "    .dataframe tbody tr th {\n",
       "        vertical-align: top;\n",
       "    }\n",
       "\n",
       "    .dataframe thead th {\n",
       "        text-align: right;\n",
       "    }\n",
       "</style>\n",
       "<table border=\"1\" class=\"dataframe\">\n",
       "  <thead>\n",
       "    <tr style=\"text-align: right;\">\n",
       "      <th></th>\n",
       "      <th>latitude</th>\n",
       "      <th>longitude</th>\n",
       "      <th>depth</th>\n",
       "      <th>magnitude</th>\n",
       "      <th>eruption</th>\n",
       "    </tr>\n",
       "  </thead>\n",
       "  <tbody>\n",
       "    <tr>\n",
       "      <th>0</th>\n",
       "      <td>-9.18</td>\n",
       "      <td>119.06</td>\n",
       "      <td>10</td>\n",
       "      <td>4.9</td>\n",
       "      <td>0</td>\n",
       "    </tr>\n",
       "    <tr>\n",
       "      <th>1</th>\n",
       "      <td>-6.55</td>\n",
       "      <td>129.64</td>\n",
       "      <td>10</td>\n",
       "      <td>4.6</td>\n",
       "      <td>0</td>\n",
       "    </tr>\n",
       "    <tr>\n",
       "      <th>2</th>\n",
       "      <td>-7.01</td>\n",
       "      <td>106.63</td>\n",
       "      <td>121</td>\n",
       "      <td>3.7</td>\n",
       "      <td>0</td>\n",
       "    </tr>\n",
       "    <tr>\n",
       "      <th>3</th>\n",
       "      <td>-3.30</td>\n",
       "      <td>127.85</td>\n",
       "      <td>10</td>\n",
       "      <td>3.2</td>\n",
       "      <td>0</td>\n",
       "    </tr>\n",
       "    <tr>\n",
       "      <th>4</th>\n",
       "      <td>-6.41</td>\n",
       "      <td>129.54</td>\n",
       "      <td>70</td>\n",
       "      <td>4.3</td>\n",
       "      <td>0</td>\n",
       "    </tr>\n",
       "    <tr>\n",
       "      <th>...</th>\n",
       "      <td>...</td>\n",
       "      <td>...</td>\n",
       "      <td>...</td>\n",
       "      <td>...</td>\n",
       "      <td>...</td>\n",
       "    </tr>\n",
       "    <tr>\n",
       "      <th>92882</th>\n",
       "      <td>3.24</td>\n",
       "      <td>127.18</td>\n",
       "      <td>10</td>\n",
       "      <td>4.0</td>\n",
       "      <td>0</td>\n",
       "    </tr>\n",
       "    <tr>\n",
       "      <th>92883</th>\n",
       "      <td>2.70</td>\n",
       "      <td>127.10</td>\n",
       "      <td>10</td>\n",
       "      <td>3.9</td>\n",
       "      <td>0</td>\n",
       "    </tr>\n",
       "    <tr>\n",
       "      <th>92884</th>\n",
       "      <td>-7.83</td>\n",
       "      <td>121.07</td>\n",
       "      <td>10</td>\n",
       "      <td>3.8</td>\n",
       "      <td>0</td>\n",
       "    </tr>\n",
       "    <tr>\n",
       "      <th>92885</th>\n",
       "      <td>3.00</td>\n",
       "      <td>127.16</td>\n",
       "      <td>10</td>\n",
       "      <td>4.1</td>\n",
       "      <td>0</td>\n",
       "    </tr>\n",
       "    <tr>\n",
       "      <th>92886</th>\n",
       "      <td>-8.87</td>\n",
       "      <td>118.95</td>\n",
       "      <td>10</td>\n",
       "      <td>2.4</td>\n",
       "      <td>0</td>\n",
       "    </tr>\n",
       "  </tbody>\n",
       "</table>\n",
       "<p>92887 rows × 5 columns</p>\n",
       "</div>"
      ],
      "text/plain": [
       "       latitude  longitude  depth  magnitude  eruption\n",
       "0         -9.18     119.06     10        4.9         0\n",
       "1         -6.55     129.64     10        4.6         0\n",
       "2         -7.01     106.63    121        3.7         0\n",
       "3         -3.30     127.85     10        3.2         0\n",
       "4         -6.41     129.54     70        4.3         0\n",
       "...         ...        ...    ...        ...       ...\n",
       "92882      3.24     127.18     10        4.0         0\n",
       "92883      2.70     127.10     10        3.9         0\n",
       "92884     -7.83     121.07     10        3.8         0\n",
       "92885      3.00     127.16     10        4.1         0\n",
       "92886     -8.87     118.95     10        2.4         0\n",
       "\n",
       "[92887 rows x 5 columns]"
      ]
     },
     "execution_count": 10,
     "metadata": {},
     "output_type": "execute_result"
    }
   ],
   "source": [
    "# Mengubah 'Meletus' menjadi 1 dan 'Tidak Meletus' menjadi 0\n",
    "df['eruption'] = df['eruption'].map({'Meletus': 1, 'Tidak Meletus': 0})\n",
    "\n",
    "# Menampilkan DataFrame setelah perubahan\n",
    "df"
   ]
  },
  {
   "cell_type": "code",
   "execution_count": 11,
   "id": "0f22e616-6255-4964-896b-e4e085c9d634",
   "metadata": {
    "tags": []
   },
   "outputs": [
    {
     "data": {
      "image/png": "[encoded data removed]",
      "text/plain": [
       "<Figure size 500x500 with 1 Axes>"
      ]
     },
     "metadata": {},
     "output_type": "display_data"
    }
   ],
   "source": [
    "#Ploting Korelasi Data (Data Double)\n",
    "def plot_corr(df, size=5):\n",
    "    #Data Core Correlation\n",
    "    corr = df.corr()\n",
    "    fig, ax = plt.subplots(figsize=(size, size))\n",
    "    ax.matshow(corr)\n",
    "    plt.xticks(range(len(corr.columns)), corr.columns)\n",
    "    plt.yticks(range(len(corr.columns)), corr.columns)\n",
    "plot_corr(df)"
   ]
  },
  {
   "cell_type": "code",
   "execution_count": 12,
   "id": "b4b7a3c3-4f07-47f3-b44c-a75eb988629e",
   "metadata": {
    "tags": []
   },
   "outputs": [
    {
     "data": {
      "text/html": [
       "<div>\n",
       "<style scoped>\n",
       "    .dataframe tbody tr th:only-of-type {\n",
       "        vertical-align: middle;\n",
       "    }\n",
       "\n",
       "    .dataframe tbody tr th {\n",
       "        vertical-align: top;\n",
       "    }\n",
       "\n",
       "    .dataframe thead th {\n",
       "        text-align: right;\n",
       "    }\n",
       "</style>\n",
       "<table border=\"1\" class=\"dataframe\">\n",
       "  <thead>\n",
       "    <tr style=\"text-align: right;\">\n",
       "      <th></th>\n",
       "      <th>latitude</th>\n",
       "      <th>longitude</th>\n",
       "      <th>depth</th>\n",
       "      <th>magnitude</th>\n",
       "      <th>eruption</th>\n",
       "    </tr>\n",
       "  </thead>\n",
       "  <tbody>\n",
       "    <tr>\n",
       "      <th>latitude</th>\n",
       "      <td>1.000000</td>\n",
       "      <td>0.060283</td>\n",
       "      <td>-0.000180</td>\n",
       "      <td>0.118029</td>\n",
       "      <td>0.010556</td>\n",
       "    </tr>\n",
       "    <tr>\n",
       "      <th>longitude</th>\n",
       "      <td>0.060283</td>\n",
       "      <td>1.000000</td>\n",
       "      <td>0.100506</td>\n",
       "      <td>0.109827</td>\n",
       "      <td>0.006594</td>\n",
       "    </tr>\n",
       "    <tr>\n",
       "      <th>depth</th>\n",
       "      <td>-0.000180</td>\n",
       "      <td>0.100506</td>\n",
       "      <td>1.000000</td>\n",
       "      <td>0.235087</td>\n",
       "      <td>0.014299</td>\n",
       "    </tr>\n",
       "    <tr>\n",
       "      <th>magnitude</th>\n",
       "      <td>0.118029</td>\n",
       "      <td>0.109827</td>\n",
       "      <td>0.235087</td>\n",
       "      <td>1.000000</td>\n",
       "      <td>0.090279</td>\n",
       "    </tr>\n",
       "    <tr>\n",
       "      <th>eruption</th>\n",
       "      <td>0.010556</td>\n",
       "      <td>0.006594</td>\n",
       "      <td>0.014299</td>\n",
       "      <td>0.090279</td>\n",
       "      <td>1.000000</td>\n",
       "    </tr>\n",
       "  </tbody>\n",
       "</table>\n",
       "</div>"
      ],
      "text/plain": [
       "           latitude  longitude     depth  magnitude  eruption\n",
       "latitude   1.000000   0.060283 -0.000180   0.118029  0.010556\n",
       "longitude  0.060283   1.000000  0.100506   0.109827  0.006594\n",
       "depth     -0.000180   0.100506  1.000000   0.235087  0.014299\n",
       "magnitude  0.118029   0.109827  0.235087   1.000000  0.090279\n",
       "eruption   0.010556   0.006594  0.014299   0.090279  1.000000"
      ]
     },
     "execution_count": 12,
     "metadata": {},
     "output_type": "execute_result"
    }
   ],
   "source": [
    "#Cek Korelasi Data\n",
    "df.corr()"
   ]
  },
  {
   "cell_type": "code",
   "execution_count": 13,
   "id": "dcc768b2-35b7-48af-b7a1-a53c17f4188d",
   "metadata": {
    "tags": []
   },
   "outputs": [
    {
     "data": {
      "text/html": [
       "<div>\n",
       "<style scoped>\n",
       "    .dataframe tbody tr th:only-of-type {\n",
       "        vertical-align: middle;\n",
       "    }\n",
       "\n",
       "    .dataframe tbody tr th {\n",
       "        vertical-align: top;\n",
       "    }\n",
       "\n",
       "    .dataframe thead th {\n",
       "        text-align: right;\n",
       "    }\n",
       "</style>\n",
       "<table border=\"1\" class=\"dataframe\">\n",
       "  <thead>\n",
       "    <tr style=\"text-align: right;\">\n",
       "      <th></th>\n",
       "      <th>latitude</th>\n",
       "      <th>longitude</th>\n",
       "      <th>depth</th>\n",
       "      <th>magnitude</th>\n",
       "      <th>eruption</th>\n",
       "    </tr>\n",
       "  </thead>\n",
       "  <tbody>\n",
       "    <tr>\n",
       "      <th>0</th>\n",
       "      <td>-9.18</td>\n",
       "      <td>119.06</td>\n",
       "      <td>10</td>\n",
       "      <td>4.9</td>\n",
       "      <td>0</td>\n",
       "    </tr>\n",
       "    <tr>\n",
       "      <th>1</th>\n",
       "      <td>-6.55</td>\n",
       "      <td>129.64</td>\n",
       "      <td>10</td>\n",
       "      <td>4.6</td>\n",
       "      <td>0</td>\n",
       "    </tr>\n",
       "    <tr>\n",
       "      <th>2</th>\n",
       "      <td>-7.01</td>\n",
       "      <td>106.63</td>\n",
       "      <td>121</td>\n",
       "      <td>3.7</td>\n",
       "      <td>0</td>\n",
       "    </tr>\n",
       "    <tr>\n",
       "      <th>3</th>\n",
       "      <td>-3.30</td>\n",
       "      <td>127.85</td>\n",
       "      <td>10</td>\n",
       "      <td>3.2</td>\n",
       "      <td>0</td>\n",
       "    </tr>\n",
       "    <tr>\n",
       "      <th>4</th>\n",
       "      <td>-6.41</td>\n",
       "      <td>129.54</td>\n",
       "      <td>70</td>\n",
       "      <td>4.3</td>\n",
       "      <td>0</td>\n",
       "    </tr>\n",
       "  </tbody>\n",
       "</table>\n",
       "</div>"
      ],
      "text/plain": [
       "   latitude  longitude  depth  magnitude  eruption\n",
       "0     -9.18     119.06     10        4.9         0\n",
       "1     -6.55     129.64     10        4.6         0\n",
       "2     -7.01     106.63    121        3.7         0\n",
       "3     -3.30     127.85     10        3.2         0\n",
       "4     -6.41     129.54     70        4.3         0"
      ]
     },
     "execution_count": 13,
     "metadata": {},
     "output_type": "execute_result"
    }
   ],
   "source": [
    "#Cek Data type (pastikan semua data numeric)\n",
    "df.head(5)"
   ]
  },
  {
   "cell_type": "code",
   "execution_count": 14,
   "id": "2deca80f-060c-4ef6-97c2-e4db2df71374",
   "metadata": {
    "tags": []
   },
   "outputs": [
    {
     "name": "stdout",
     "output_type": "stream",
     "text": [
      "Jumlah berpotensi gunung meletus : 39 (0.04%)\n",
      "Jumlah tidak terjadi gunung meletus : 92855 (99.97%)\n"
     ]
    }
   ],
   "source": [
    "#Jumlah distribusi\n",
    "\n",
    "#Panjang data\n",
    "num_obs = len(df)\n",
    "#Cek jumlah true\n",
    "num_true = len(df.loc[df['magnitude'] >= 7.0])\n",
    "#Cek Jumlah False\n",
    "num_false = len(df.loc[df['magnitude'] <= 7.0])\n",
    "print(\"Jumlah berpotensi gunung meletus : {0} ({1:2.2f}%)\".format(num_true, (num_true/num_obs) * 100))\n",
    "print(\"Jumlah tidak terjadi gunung meletus : {0} ({1:2.2f}%)\".format(num_false, (num_false/num_obs) * 100))"
   ]
  },
  {
   "cell_type": "code",
   "execution_count": 18,
   "id": "f2bab15a-4bc5-48f9-aa93-6009377618c6",
   "metadata": {},
   "outputs": [],
   "source": [
    "#Split data\n",
    "from sklearn.model_selection import train_test_split\n",
    "feature_col_names = ['latitude', 'longitude', 'depth','magnitude']\n",
    "predicted_class_names = ['eruption']\n",
    "\n",
    "X = df[feature_col_names].values\n",
    "y = df[predicted_class_names].values\n",
    "split_test_size = 0.30\n",
    "\n",
    "X_train, X_test, y_train, y_test = train_test_split(X, y, test_size = split_test_size, random_state = 42)"
   ]
  },
  {
   "cell_type": "code",
   "execution_count": 19,
   "id": "63d874ba-4690-4b88-ac66-c22987627921",
   "metadata": {},
   "outputs": [
    {
     "name": "stdout",
     "output_type": "stream",
     "text": [
      "70.00% ada pada training set\n",
      "30.00% ada pada test set\n"
     ]
    }
   ],
   "source": [
    "print(\"{0:0.2f}% ada pada training set\".format((len(X_train)/len(df.index)) * 100))\n",
    "print(\"{0:0.2f}% ada pada test set\".format((len(X_test)/len(df.index)) * 100))"
   ]
  },
  {
   "cell_type": "code",
   "execution_count": 20,
   "id": "a9d40d08-8fcd-46de-bf24-10f6c61d5ba3",
   "metadata": {
    "collapsed": true,
    "jupyter": {
     "outputs_hidden": true
    },
    "tags": []
   },
   "outputs": [
    {
     "name": "stdout",
     "output_type": "stream",
     "text": [
      "Jumlah berpotensi gunung meletus : 8 (0.01%)\n",
      "Jumlah tidak terjadi gunung meletus : 0 (0.00%)\n",
      "\n",
      "Training True : 19 (0.03%)\n",
      "Training False : 65001 (99.97%)\n",
      "\n",
      "Training True : 20 (0.07%)\n",
      "Training False : 27847 (99.93%)\n"
     ]
    }
   ],
   "source": [
    "print(\"Jumlah berpotensi gunung meletus : {0} ({1:2.2f}%)\".format(len(df.loc[df['magnitude'] == 1]), (len(df.loc[df['magnitude'] == 1])/len(df.index)) * 100.0))\n",
    "print(\"Jumlah tidak terjadi gunung meletus : {0} ({1:2.2f}%)\".format(len(df.loc[df['magnitude'] == 0]), (len(df.loc[df['magnitude'] == 0])/len(df.index)) * 100.0))\n",
    "print(\"\")\n",
    "print(\"Training True : {0} ({1:2.2f}%)\".format(len(y_train[y_train[:] == 1]), (len(y_train[y_train[:] == 1])/len(y_train) * 100.0)))\n",
    "print(\"Training False : {0} ({1:2.2f}%)\".format(len(y_train[y_train[:] == 0]), (len(y_train[y_train[:] == 0])/len(y_train) * 100.0)))\n",
    "print(\"\")\n",
    "print(\"Training True : {0} ({1:2.2f}%)\".format(len(y_test[y_test[:] == 1]), (len(y_test[y_test[:] == 1])/len(y_test) * 100.0)))\n",
    "print(\"Training False : {0} ({1:2.2f}%)\".format(len(y_test[y_test[:] == 0]), (len(y_test[y_test[:] == 0])/len(y_test) * 100.0)))"
   ]
  },
  {
   "cell_type": "code",
   "execution_count": 21,
   "id": "6e5b26f8-a1b3-4687-812d-ff975487eaa9",
   "metadata": {
    "collapsed": true,
    "jupyter": {
     "outputs_hidden": true
    },
    "tags": []
   },
   "outputs": [
    {
     "data": {
      "text/html": [
       "<div>\n",
       "<style scoped>\n",
       "    .dataframe tbody tr th:only-of-type {\n",
       "        vertical-align: middle;\n",
       "    }\n",
       "\n",
       "    .dataframe tbody tr th {\n",
       "        vertical-align: top;\n",
       "    }\n",
       "\n",
       "    .dataframe thead th {\n",
       "        text-align: right;\n",
       "    }\n",
       "</style>\n",
       "<table border=\"1\" class=\"dataframe\">\n",
       "  <thead>\n",
       "    <tr style=\"text-align: right;\">\n",
       "      <th></th>\n",
       "      <th>latitude</th>\n",
       "      <th>longitude</th>\n",
       "      <th>depth</th>\n",
       "      <th>magnitude</th>\n",
       "      <th>eruption</th>\n",
       "    </tr>\n",
       "  </thead>\n",
       "  <tbody>\n",
       "    <tr>\n",
       "      <th>0</th>\n",
       "      <td>-9.18</td>\n",
       "      <td>119.06</td>\n",
       "      <td>10</td>\n",
       "      <td>4.9</td>\n",
       "      <td>0</td>\n",
       "    </tr>\n",
       "    <tr>\n",
       "      <th>1</th>\n",
       "      <td>-6.55</td>\n",
       "      <td>129.64</td>\n",
       "      <td>10</td>\n",
       "      <td>4.6</td>\n",
       "      <td>0</td>\n",
       "    </tr>\n",
       "    <tr>\n",
       "      <th>2</th>\n",
       "      <td>-7.01</td>\n",
       "      <td>106.63</td>\n",
       "      <td>121</td>\n",
       "      <td>3.7</td>\n",
       "      <td>0</td>\n",
       "    </tr>\n",
       "    <tr>\n",
       "      <th>3</th>\n",
       "      <td>-3.30</td>\n",
       "      <td>127.85</td>\n",
       "      <td>10</td>\n",
       "      <td>3.2</td>\n",
       "      <td>0</td>\n",
       "    </tr>\n",
       "    <tr>\n",
       "      <th>4</th>\n",
       "      <td>-6.41</td>\n",
       "      <td>129.54</td>\n",
       "      <td>70</td>\n",
       "      <td>4.3</td>\n",
       "      <td>0</td>\n",
       "    </tr>\n",
       "  </tbody>\n",
       "</table>\n",
       "</div>"
      ],
      "text/plain": [
       "   latitude  longitude  depth  magnitude  eruption\n",
       "0     -9.18     119.06     10        4.9         0\n",
       "1     -6.55     129.64     10        4.6         0\n",
       "2     -7.01     106.63    121        3.7         0\n",
       "3     -3.30     127.85     10        3.2         0\n",
       "4     -6.41     129.54     70        4.3         0"
      ]
     },
     "execution_count": 21,
     "metadata": {},
     "output_type": "execute_result"
    }
   ],
   "source": [
    "df.head()"
   ]
  },
  {
   "cell_type": "code",
   "execution_count": 22,
   "id": "68ca0b82-11b1-48d9-ac92-01e64804976b",
   "metadata": {},
   "outputs": [
    {
     "name": "stdout",
     "output_type": "stream",
     "text": [
      "# rows in datframe 92887\n",
      "# rows missing longitude: 0\n",
      "# rows missing latitude: 91\n",
      "# rows missing depth: 0\n"
     ]
    }
   ],
   "source": [
    "print(\"# rows in datframe {0}\".format(len(df)))\n",
    "print(\"# rows missing longitude: {0}\".format(len(df.loc[df['longitude'] == 0])))\n",
    "print(\"# rows missing latitude: {0}\".format(len(df.loc[df['latitude'] == 0])))\n",
    "print(\"# rows missing depth: {0}\".format(len(df.loc[df['depth'] == 0])))"
   ]
  },
  {
   "cell_type": "code",
   "execution_count": 23,
   "id": "bc47ef5d-c1d1-4d94-818e-1df76e3a72d2",
   "metadata": {},
   "outputs": [],
   "source": [
    "#Impute Data yang kosong dengan min \n",
    "from sklearn.impute import SimpleImputer\n",
    "fill_0 = SimpleImputer(missing_values = 0, strategy = \"mean\")\n",
    "X_train = fill_0.fit_transform(X_train)\n",
    "X_test = fill_0.fit_transform(X_test)"
   ]
  },
  {
   "cell_type": "code",
   "execution_count": 24,
   "id": "cb0682ed-395a-4edc-8061-854e663f7654",
   "metadata": {},
   "outputs": [
    {
     "data": {
      "text/html": [
       "<div>\n",
       "<style scoped>\n",
       "    .dataframe tbody tr th:only-of-type {\n",
       "        vertical-align: middle;\n",
       "    }\n",
       "\n",
       "    .dataframe tbody tr th {\n",
       "        vertical-align: top;\n",
       "    }\n",
       "\n",
       "    .dataframe thead th {\n",
       "        text-align: right;\n",
       "    }\n",
       "</style>\n",
       "<table border=\"1\" class=\"dataframe\">\n",
       "  <thead>\n",
       "    <tr style=\"text-align: right;\">\n",
       "      <th></th>\n",
       "      <th>latitude</th>\n",
       "      <th>longitude</th>\n",
       "      <th>depth</th>\n",
       "      <th>magnitude</th>\n",
       "      <th>eruption</th>\n",
       "    </tr>\n",
       "  </thead>\n",
       "  <tbody>\n",
       "    <tr>\n",
       "      <th>0</th>\n",
       "      <td>-9.18</td>\n",
       "      <td>119.06</td>\n",
       "      <td>10</td>\n",
       "      <td>4.9</td>\n",
       "      <td>0</td>\n",
       "    </tr>\n",
       "    <tr>\n",
       "      <th>1</th>\n",
       "      <td>-6.55</td>\n",
       "      <td>129.64</td>\n",
       "      <td>10</td>\n",
       "      <td>4.6</td>\n",
       "      <td>0</td>\n",
       "    </tr>\n",
       "    <tr>\n",
       "      <th>2</th>\n",
       "      <td>-7.01</td>\n",
       "      <td>106.63</td>\n",
       "      <td>121</td>\n",
       "      <td>3.7</td>\n",
       "      <td>0</td>\n",
       "    </tr>\n",
       "    <tr>\n",
       "      <th>3</th>\n",
       "      <td>-3.30</td>\n",
       "      <td>127.85</td>\n",
       "      <td>10</td>\n",
       "      <td>3.2</td>\n",
       "      <td>0</td>\n",
       "    </tr>\n",
       "    <tr>\n",
       "      <th>4</th>\n",
       "      <td>-6.41</td>\n",
       "      <td>129.54</td>\n",
       "      <td>70</td>\n",
       "      <td>4.3</td>\n",
       "      <td>0</td>\n",
       "    </tr>\n",
       "  </tbody>\n",
       "</table>\n",
       "</div>"
      ],
      "text/plain": [
       "   latitude  longitude  depth  magnitude  eruption\n",
       "0     -9.18     119.06     10        4.9         0\n",
       "1     -6.55     129.64     10        4.6         0\n",
       "2     -7.01     106.63    121        3.7         0\n",
       "3     -3.30     127.85     10        3.2         0\n",
       "4     -6.41     129.54     70        4.3         0"
      ]
     },
     "execution_count": 24,
     "metadata": {},
     "output_type": "execute_result"
    }
   ],
   "source": [
    "df.head()"
   ]
  },
  {
   "cell_type": "code",
   "execution_count": 25,
   "id": "56bef2f1-4e41-4b66-bb27-7a74b6369d2e",
   "metadata": {},
   "outputs": [
    {
     "data": {
      "text/plain": [
       "GaussianNB()"
      ]
     },
     "execution_count": 25,
     "metadata": {},
     "output_type": "execute_result"
    }
   ],
   "source": [
    "#Training Naive Bayes\n",
    "from sklearn.naive_bayes import GaussianNB\n",
    "nb_model = GaussianNB()\n",
    "\n",
    "nb_model.fit(X_train, y_train.ravel())"
   ]
  },
  {
   "cell_type": "code",
   "execution_count": 27,
   "id": "b2e90a7f-f03e-4dba-bcd5-4f0bfb313773",
   "metadata": {},
   "outputs": [
    {
     "name": "stdout",
     "output_type": "stream",
     "text": [
      "Accuracy: 0.9997\n"
     ]
    }
   ],
   "source": [
    "# Test Akurasi Data Train\n",
    "nb_predict_train = nb_model.predict(X_train)\n",
    "\n",
    "from sklearn import metrics\n",
    "print(\"Accuracy: {0:.4f}\".format(metrics.accuracy_score(y_train, nb_predict_train)))"
   ]
  },
  {
   "cell_type": "code",
   "execution_count": 29,
   "id": "1a2b6b10-0b9e-4632-9e93-65c0bda227c2",
   "metadata": {
    "collapsed": true,
    "jupyter": {
     "outputs_hidden": true
    },
    "tags": []
   },
   "outputs": [
    {
     "name": "stdout",
     "output_type": "stream",
     "text": [
      "nb_predict_test [0 0 0 ... 0 0 0]\n",
      "y_test [[0]\n",
      " [0]\n",
      " [0]\n",
      " ...\n",
      " [0]\n",
      " [0]\n",
      " [0]]\n",
      "Accuracy: 0.9998\n"
     ]
    }
   ],
   "source": [
    "# Test Akurasi Data Uji\n",
    "nb_predict_test = nb_model.predict(X_test)\n",
    "\n",
    "from sklearn import metrics\n",
    "print(\"nb_predict_test\", nb_predict_test)\n",
    "print(\"y_test\", y_test)\n",
    "print(\"Accuracy: {0:.4f}\".format(metrics.accuracy_score(y_test, nb_predict_test)))"
   ]
  },
  {
   "cell_type": "code",
   "execution_count": null,
   "id": "ad7b1121-8cef-440f-bb45-96d025bd341d",
   "metadata": {},
   "outputs": [],
   "source": [
    "#Konfusion Matriks (Cek label)\n",
    "print(\"Confusion Matrix\")\n",
    "print(\"{0}\".format(metrics.confusion_matrix(y_test, rf_predict_test)))\n",
    "print(\"\")\n",
    "print(\"Classification Report\")\n",
    "print(metrics.classification_report(y_test, rf_predict_test))"
   ]
  },
  {
   "cell_type": "code",
   "execution_count": 30,
   "id": "5ad32fba-074e-47fd-bcd3-8e5e90e867d5",
   "metadata": {
    "collapsed": true,
    "jupyter": {
     "outputs_hidden": true
    },
    "tags": []
   },
   "outputs": [
    {
     "name": "stdout",
     "output_type": "stream",
     "text": [
      "Confusion Matrix\n",
      "[[27843     4]\n",
      " [    1    19]]\n",
      "\n",
      "Classification Report\n",
      "              precision    recall  f1-score   support\n",
      "\n",
      "           0       1.00      1.00      1.00     27847\n",
      "           1       0.83      0.95      0.88        20\n",
      "\n",
      "    accuracy                           1.00     27867\n",
      "   macro avg       0.91      0.97      0.94     27867\n",
      "weighted avg       1.00      1.00      1.00     27867\n",
      "\n"
     ]
    }
   ],
   "source": [
    "#Konfusion Matriks (Cek label)\n",
    "print(\"Confusion Matrix\")\n",
    "print(\"{0}\".format(metrics.confusion_matrix(y_test, nb_predict_test)))\n",
    "print(\"\")\n",
    "print(\"Classification Report\")\n",
    "print(metrics.classification_report(y_test, nb_predict_test))"
   ]
  },
  {
   "cell_type": "code",
   "execution_count": 31,
   "id": "f55d2ce8-0f44-469c-b1b5-bc6d97fc4ed7",
   "metadata": {},
   "outputs": [
    {
     "data": {
      "text/plain": [
       "RandomForestClassifier(n_estimators=10, random_state=42)"
      ]
     },
     "execution_count": 31,
     "metadata": {},
     "output_type": "execute_result"
    }
   ],
   "source": [
    "#Peningkatan peforma akurasi dengan RandomForestClassifier\n",
    "from sklearn.ensemble import RandomForestClassifier\n",
    "\n",
    "rf_model = RandomForestClassifier(random_state = 42, n_estimators = 10)\n",
    "rf_model.fit(X_train, y_train.ravel())"
   ]
  },
  {
   "cell_type": "code",
   "execution_count": 32,
   "id": "d13e868c-d524-4063-a466-a2e8725a405d",
   "metadata": {},
   "outputs": [
    {
     "name": "stdout",
     "output_type": "stream",
     "text": [
      "Accuracy: 1.0000\n"
     ]
    }
   ],
   "source": [
    "#Prediksi Data train\n",
    "rf_predict_train = rf_model.predict(X_train)\n",
    "\n",
    "print(\"Accuracy: {0:.4f}\".format(metrics.accuracy_score(y_train, rf_predict_train)))"
   ]
  },
  {
   "cell_type": "code",
   "execution_count": 33,
   "id": "789b55ee-1b9c-4c48-8b39-8df5860b4b44",
   "metadata": {},
   "outputs": [
    {
     "name": "stdout",
     "output_type": "stream",
     "text": [
      "Accuracy: 1.0000\n"
     ]
    }
   ],
   "source": [
    "#Prediksi Data Uji\n",
    "rf_predict_test = rf_model.predict(X_test)\n",
    "\n",
    "print(\"Accuracy: {0:.4f}\".format(metrics.accuracy_score(y_test, rf_predict_test)))"
   ]
  },
  {
   "cell_type": "code",
   "execution_count": 34,
   "id": "186c9891-235d-403b-8c5a-431905544bda",
   "metadata": {
    "collapsed": true,
    "jupyter": {
     "outputs_hidden": true
    },
    "tags": []
   },
   "outputs": [
    {
     "name": "stdout",
     "output_type": "stream",
     "text": [
      "Confusion Matrix\n",
      "[[27847     0]\n",
      " [    0    20]]\n",
      "\n",
      "Classification Report\n",
      "              precision    recall  f1-score   support\n",
      "\n",
      "           0       1.00      1.00      1.00     27847\n",
      "           1       1.00      1.00      1.00        20\n",
      "\n",
      "    accuracy                           1.00     27867\n",
      "   macro avg       1.00      1.00      1.00     27867\n",
      "weighted avg       1.00      1.00      1.00     27867\n",
      "\n"
     ]
    }
   ],
   "source": [
    "#Konfusion Matriks (Cek label)\n",
    "print(\"Confusion Matrix\")\n",
    "print(\"{0}\".format(metrics.confusion_matrix(y_test, rf_predict_test)))\n",
    "print(\"\")\n",
    "print(\"Classification Report\")\n",
    "print(metrics.classification_report(y_test, rf_predict_test))"
   ]
  },
  {
   "cell_type": "code",
   "execution_count": null,
   "id": "f1b5acb7-1e18-4eb7-8a2c-a6874ef81952",
   "metadata": {},
   "outputs": [],
   "source": []
  }
 ],
 "metadata": {
  "kernelspec": {
   "display_name": "Python 3 (ipykernel)",
   "language": "python",
   "name": "python3"
  },
  "language_info": {
   "codemirror_mode": {
    "name": "ipython",
    "version": 3
   },
   "file_extension": ".py",
   "mimetype": "text/x-python",
   "name": "python",
   "nbconvert_exporter": "python",
   "pygments_lexer": "ipython3",
   "version": "3.9.13"
  }
 },
 "nbformat": 4,
 "nbformat_minor": 5
}
